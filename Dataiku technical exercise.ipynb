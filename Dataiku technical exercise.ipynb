{
 "cells": [
  {
   "cell_type": "code",
   "execution_count": 1,
   "metadata": {
    "collapsed": false
   },
   "outputs": [
    {
     "name": "stdout",
     "output_type": "stream",
     "text": [
      "Populating the interactive namespace from numpy and matplotlib\n"
     ]
    }
   ],
   "source": [
    "%pylab inline"
   ]
  },
  {
   "cell_type": "code",
   "execution_count": 2,
   "metadata": {
    "collapsed": true
   },
   "outputs": [],
   "source": [
    "import pandas as pd\n",
    "import numpy as np\n",
    "import math"
   ]
  },
  {
   "cell_type": "code",
   "execution_count": 3,
   "metadata": {
    "collapsed": false
   },
   "outputs": [
    {
     "name": "stdout",
     "output_type": "stream",
     "text": [
      "| This data was extracted from the census bureau database found at\n",
      "| http://www.census.gov/ftp/pub/DES/www/welcome.html\n",
      "| Donor: Terran Lane and Ronny Kohavi\n",
      "|        Data Mining and Visualization\n",
      "|        Silicon Graphics.\n",
      "|        e-mail: terran@ecn.purdue.edu, ronnyk@sgi.com for questions.\n",
      "|\n",
      "| The data was split into train/test in approximately 2/3, 1/3\n",
      "| proportions using MineSet's MIndUtil mineset-to-mlc.\n",
      "|\n",
      "| Prediction task is to determine the income level for the person\n",
      "| represented by the record.  Incomes have been binned at the $50K\n",
      "| level to present a binary classification problem, much like the\n",
      "| original UCI/ADULT database.  The goal field of this data, however,\n",
      "| was drawn from the \"total person income\" field rather than the\n",
      "| \"adjusted gross income\" and may, therefore, behave differently than the\n",
      "| orginal ADULT goal field.\n",
      "|\n",
      "| More information detailing the meaning of the attributes can be\n",
      "| found in http://www.bls.census.gov/cps/cpsmain.htm\n",
      "| To make use of the data descriptions at this site, the following mappings\n",
      "| to the Census Bureau's internal database column names will be needed:\n",
      "|\n",
      "| age\t\t\t\t\t\tAAGE\n",
      "| class of worker\t\t\t\tACLSWKR\n",
      "| industry code\t\t\t\t\tADTIND\n",
      "| occupation code\t\t\t\tADTOCC\n",
      "| adjusted gross income\t\t\t\tAGI\n",
      "| education\t\t\t\t\tAHGA\n",
      "| wage per hour\t\t\t\t\tAHRSPAY\n",
      "| enrolled in edu inst last wk\t\t\tAHSCOL\n",
      "| marital status\t\t\t\tAMARITL\n",
      "| major industry code\t\t\t\tAMJIND\n",
      "| major occupation code\t\t\t\tAMJOCC\n",
      "| mace\t\t\t\t\t\tARACE\n",
      "| hispanic Origin\t\t\t\tAREORGN\n",
      "| sex\t\t\t\t\t\tASEX\n",
      "| member of a labor union\t\t\tAUNMEM\n",
      "| reason for unemployment\t\t\tAUNTYPE\n",
      "| full or part time employment stat\t\tAWKSTAT\n",
      "| capital gains\t\t\t\t\tCAPGAIN\n",
      "| capital losses\t\t\t\tCAPLOSS\n",
      "| divdends from stocks\t\t\t\tDIVVAL\n",
      "| federal income tax liability\t\t\tFEDTAX\n",
      "| tax filer status\t\t\t\tFILESTAT\n",
      "| region of previous residence\t\t\tGRINREG\n",
      "| state of previous residence\t\t\tGRINST\n",
      "| detailed household and family stat\t\tHHDFMX\n",
      "| detailed household summary in household\tHHDREL\n",
      "| instance weight\t\t\t\tMARSUPWT\n",
      "| migration code-change in msa\t\t\tMIGMTR1\n",
      "| migration code-change in reg\t\t\tMIGMTR3\n",
      "| migration code-move within reg\t\tMIGMTR4\n",
      "| live in this house 1 year ago\t\t\tMIGSAME\n",
      "| migration prev res in sunbelt\t\t\tMIGSUN\n",
      "| num persons worked for employer\t\tNOEMP\n",
      "| family members under 18\t\t\tPARENT\n",
      "| total person earnings\t\t\t\tPEARNVAL\n",
      "| country of birth father\t\t\tPEFNTVTY\n",
      "| country of birth mother\t\t\tPEMNTVTY\n",
      "| country of birth self\t\t\t\tPENATVTY\n",
      "| citizenship\t\t\t\t\tPRCITSHP\n",
      "| total person income\t\t\t\tPTOTVAL\n",
      "| own business or self employed\t\t\tSEOTR\n",
      "| taxable income amount\t\t\t\tTAXINC\n",
      "| fill inc questionnaire for veteran's admin\tVETQVA\n",
      "| veterans benefits\t\t\t\tVETYN\n",
      "| weeks worked in year\t\t\t\tWKSWORK\n",
      "| \n",
      "| Basic statistics for this data set:\n",
      "|\n",
      "| Number of instances data = 199523\n",
      "|    Duplicate or conflicting instances : 46716\n",
      "| Number of instances in test = 99762\n",
      "|    Duplicate or conflicting instances : 20936\n",
      "| Class probabilities for income-projected.test file\n",
      "| Probability for the label '- 50000' : 93.80%\n",
      "| Probability for the label '50000+' : 6.20%\n",
      "| Majority accuracy: 93.80% on value - 50000\n",
      "| Number of attributes = 40 (continuous : 7 nominal : 33)\n",
      "| Information about .data file : \n",
      "|   91 distinct values for attribute #0 (age) continuous\n",
      "|    9 distinct values for attribute #1 (class of worker) nominal\n",
      "|   52 distinct values for attribute #2 (detailed industry recode) nominal\n",
      "|   47 distinct values for attribute #3 (detailed occupation recode) nominal\n",
      "|   17 distinct values for attribute #4 (education) nominal\n",
      "| 1240 distinct values for attribute #5 (wage per hour) continuous\n",
      "|    3 distinct values for attribute #6 (enroll in edu inst last wk) nominal\n",
      "|    7 distinct values for attribute #7 (marital stat) nominal\n",
      "|   24 distinct values for attribute #8 (major industry code) nominal\n",
      "|   15 distinct values for attribute #9 (major occupation code) nominal\n",
      "|    5 distinct values for attribute #10 (race) nominal\n",
      "|   10 distinct values for attribute #11 (hispanic origin) nominal\n",
      "|    2 distinct values for attribute #12 (sex) nominal\n",
      "|    3 distinct values for attribute #13 (member of a labor union) nominal\n",
      "|    6 distinct values for attribute #14 (reason for unemployment) nominal\n",
      "|    8 distinct values for attribute #15 (full or part time employment stat) nominal\n",
      "|  132 distinct values for attribute #16 (capital gains) continuous\n",
      "|  113 distinct values for attribute #17 (capital losses) continuous\n",
      "| 1478 distinct values for attribute #18 (dividends from stocks) continuous\n",
      "|    6 distinct values for attribute #19 (tax filer stat) nominal\n",
      "|    6 distinct values for attribute #20 (region of previous residence) nominal\n",
      "|   51 distinct values for attribute #21 (state of previous residence) nominal\n",
      "|   38 distinct values for attribute #22 (detailed household and family stat) nominal\n",
      "|    8 distinct values for attribute #23 (detailed household summary in household) nominal\n",
      "|   10 distinct values for attribute #24 (migration code-change in msa) nominal\n",
      "|    9 distinct values for attribute #25 (migration code-change in reg) nominal\n",
      "|   10 distinct values for attribute #26 (migration code-move within reg) nominal\n",
      "|    3 distinct values for attribute #27 (live in this house 1 year ago) nominal\n",
      "|    4 distinct values for attribute #28 (migration prev res in sunbelt) nominal\n",
      "|    7 distinct values for attribute #29 (num persons worked for employer) continuous\n",
      "|    5 distinct values for attribute #30 (family members under 18) nominal\n",
      "|   43 distinct values for attribute #31 (country of birth father) nominal\n",
      "|   43 distinct values for attribute #32 (country of birth mother) nominal\n",
      "|   43 distinct values for attribute #33 (country of birth self) nominal\n",
      "|    5 distinct values for attribute #34 (citizenship) nominal\n",
      "|    3 distinct values for attribute #35 (own business or self employed) nominal\n",
      "|    3 distinct values for attribute #36 (fill inc questionnaire for veteran's admin) nominal\n",
      "|    3 distinct values for attribute #37 (veterans benefits) nominal\n",
      "|   53 distinct values for attribute #38 (weeks worked in year) continuous\n",
      "|    2 distinct values for attribute #39 (year) nominal\n",
      "| \n",
      "|\n",
      "| Error rates:\n",
      "|    C4.5       \t: 4.8%\n",
      "|    C5.0\t\t: 4.7%\n",
      "|    C5.0 rules\t\t: 4.7%\n",
      "|    C5.0 boosting\t: 4.6%\n",
      "|    Naive-Bayes\t: 23.2%\n",
      "|\n",
      "| \n",
      "| All commas and periods were changed to spaces\n",
      "| Colons were replaced with dashes.\n",
      "|\n",
      "| The instance weight indicates the number of people in the population\n",
      "| that each record represents due to stratified sampling.\n",
      "| To do real analysis and derive conclusions, this field must be used.\n",
      "| This attribute should *not* be used in the classifiers, so it is\n",
      "| set to \"ignore\" in this file.\n",
      "|\n",
      "- 50000, 50000+.\n",
      "\n",
      "age: continuous.\n",
      "class of worker: Not in universe, Federal government, Local government, Never worked, Private, Self-employed-incorporated, Self-employed-not incorporated, State government, Without pay.\n",
      "detailed industry recode: 0, 40, 44, 2, 43, 47, 48, 1, 11, 19, 24, 25, 32, 33, 34, 35, 36, 37, 38, 39, 4, 42, 45, 5, 15, 16, 22, 29, 31, 50, 14, 17, 18, 28, 3, 30, 41, 46, 51, 12, 13, 21, 23, 26, 6, 7, 9, 49, 27, 8, 10, 20.\n",
      "detailed occupation recode: 0, 12, 31, 44, 19, 32, 10, 23, 26, 28, 29, 42, 40, 34, 14, 36, 38, 2, 20, 25, 37, 41, 27, 24, 30, 43, 33, 16, 45, 17, 35, 22, 18, 39, 3, 15, 13, 46, 8, 21, 9, 4, 6, 5, 1, 11, 7.\n",
      "education: Children, 7th and 8th grade, 9th grade, 10th grade, High school graduate, 11th grade, 12th grade no diploma, 5th or 6th grade, Less than 1st grade, Bachelors degree(BA AB BS), 1st 2nd 3rd or 4th grade, Some college but no degree, Masters degree(MA MS MEng MEd MSW MBA), Associates degree-occup /vocational, Associates degree-academic program, Doctorate degree(PhD EdD), Prof school degree (MD DDS DVM LLB JD).\n",
      "wage per hour: continuous.\n",
      "enroll in edu inst last wk: Not in universe, High school, College or university.\n",
      "marital stat: Never married, Married-civilian spouse present, Married-spouse absent, Separated, Divorced, Widowed, Married-A F spouse present.\n",
      "major industry code: Not in universe or children, Entertainment, Social services, Agriculture, Education, Public administration, Manufacturing-durable goods, Manufacturing-nondurable goods, Wholesale trade, Retail trade, Finance insurance and real estate, Private household services, Business and repair services, Personal services except private HH, Construction, Medical except hospital, Other professional services, Transportation, Utilities and sanitary services, Mining, Communications, Hospital services, Forestry and fisheries, Armed Forces.\n",
      "major occupation code: Not in universe, Professional specialty, Other service, Farming forestry and fishing, Sales, Adm support including clerical, Protective services, Handlers equip cleaners etc , Precision production craft & repair, Technicians and related support, Machine operators assmblrs & inspctrs, Transportation and material moving, Executive admin and managerial, Private household services, Armed Forces.\n",
      "race: White, Black, Other, Amer Indian Aleut or Eskimo, Asian or Pacific Islander.\n",
      "hispanic origin: Mexican (Mexicano), Mexican-American, Puerto Rican, Central or South American, All other, Other Spanish, Chicano, Cuban, Do not know, NA.\n",
      "sex: Female, Male.\n",
      "member of a labor union: Not in universe, No, Yes.\n",
      "reason for unemployment: Not in universe, Re-entrant, Job loser - on layoff, New entrant, Job leaver, Other job loser.\n",
      "full or part time employment stat: Children or Armed Forces, Full-time schedules, Unemployed part- time, Not in labor force, Unemployed full-time, PT for non-econ reasons usually FT, PT for econ reasons usually PT, PT for econ reasons usually FT.\n",
      "capital gains: continuous.\n",
      "capital losses: continuous.\n",
      "dividends from stocks: continuous.\n",
      "tax filer stat: Nonfiler, Joint one under 65 & one 65+, Joint both under 65, Single, Head of household, Joint both 65+.\n",
      "region of previous residence: Not in universe, South, Northeast, West, Midwest, Abroad.\n",
      "state of previous residence: Not in universe, Utah, Michigan, North Carolina, North Dakota, Virginia, Vermont, Wyoming, West Virginia, Pennsylvania, Abroad, Oregon, California, Iowa, Florida, Arkansas, Texas, South Carolina, Arizona, Indiana, Tennessee, Maine, Alaska, Ohio, Montana, Nebraska, Mississippi, District of Columbia, Minnesota, Illinois, Kentucky, Delaware, Colorado, Maryland, Wisconsin, New Hampshire, Nevada, New York, Georgia, Oklahoma, New Mexico, South Dakota, Missouri, Kansas, Connecticut, Louisiana, Alabama, Massachusetts, Idaho, New Jersey.\n",
      "detailed household and family stat: Child <18 never marr not in subfamily, Other Rel <18 never marr child of subfamily RP, Other Rel <18 never marr not in subfamily, Grandchild <18 never marr child of subfamily RP, Grandchild <18 never marr not in subfamily, Secondary individual, In group quarters, Child under 18 of RP of unrel subfamily, RP of unrelated subfamily, Spouse of householder, Householder, Other Rel <18 never married RP of subfamily, Grandchild <18 never marr RP of subfamily, Child <18 never marr RP of subfamily, Child <18 ever marr not in subfamily, Other Rel <18 ever marr RP of subfamily, Child <18 ever marr RP of subfamily, Nonfamily householder, Child <18 spouse of subfamily RP, Other Rel <18 spouse of subfamily RP, Other Rel <18 ever marr not in subfamily, Grandchild <18 ever marr not in subfamily, Child 18+ never marr Not in a subfamily, Grandchild 18+ never marr not in subfamily, Child 18+ ever marr RP of subfamily, Other Rel 18+ never marr not in subfamily, Child 18+ never marr RP of subfamily, Other Rel 18+ ever marr RP of subfamily, Other Rel 18+ never marr RP of subfamily, Other Rel 18+ spouse of subfamily RP, Other Rel 18+ ever marr not in subfamily, Child 18+ ever marr Not in a subfamily, Grandchild 18+ ever marr not in subfamily, Child 18+ spouse of subfamily RP, Spouse of RP of unrelated subfamily, Grandchild 18+ ever marr RP of subfamily, Grandchild 18+ never marr RP of subfamily, Grandchild 18+ spouse of subfamily RP.\n",
      "detailed household summary in household: Child under 18 never married, Other relative of householder, Nonrelative of householder, Spouse of householder, Householder, Child under 18 ever married, Group Quarters- Secondary individual, Child 18 or older.\n",
      "| instance weight: ignore.\n",
      "instance weight: continuous.\n",
      "migration code-change in msa: Not in universe, Nonmover, MSA to MSA, NonMSA to nonMSA, MSA to nonMSA, NonMSA to MSA, Abroad to MSA, Not identifiable, Abroad to nonMSA.\n",
      "migration code-change in reg: Not in universe, Nonmover, Same county, Different county same state, Different state same division, Abroad, Different region, Different division same region.\n",
      "migration code-move within reg: Not in universe, Nonmover, Same county, Different county same state, Different state in West, Abroad, Different state in Midwest, Different state in South, Different state in Northeast.\n",
      "live in this house 1 year ago: Not in universe under 1 year old, Yes, No.\n",
      "migration prev res in sunbelt: Not in universe, Yes, No.\n",
      "num persons worked for employer: continuous.\n",
      "family members under 18: Both parents present, Neither parent present, Mother only present, Father only present, Not in universe.\n",
      "country of birth father: Mexico, United-States, Puerto-Rico, Dominican-Republic, Jamaica, Cuba, Portugal, Nicaragua, Peru, Ecuador, Guatemala, Philippines, Canada, Columbia, El-Salvador, Japan, England, Trinadad&Tobago, Honduras, Germany, Taiwan, Outlying-U S (Guam USVI etc), India, Vietnam, China, Hong Kong, Cambodia, France, Laos, Haiti, South Korea, Iran, Greece, Italy, Poland, Thailand, Yugoslavia, Holand-Netherlands, Ireland, Scotland, Hungary, Panama.\n",
      "country of birth mother: India, Mexico, United-States, Puerto-Rico, Dominican-Republic, England, Honduras, Peru, Guatemala, Columbia, El-Salvador, Philippines, France, Ecuador, Nicaragua, Cuba, Outlying-U S (Guam USVI etc), Jamaica, South Korea, China, Germany, Yugoslavia, Canada, Vietnam, Japan, Cambodia, Ireland, Laos, Haiti, Portugal, Taiwan, Holand-Netherlands, Greece, Italy, Poland, Thailand, Trinadad&Tobago, Hungary, Panama, Hong Kong, Scotland, Iran.\n",
      "country of birth self: United-States, Mexico, Puerto-Rico, Peru, Canada, South Korea, India, Japan, Haiti, El-Salvador, Dominican-Republic, Portugal, Columbia, England, Thailand, Cuba, Laos, Panama, China, Germany, Vietnam, Italy, Honduras, Outlying-U S (Guam USVI etc), Hungary, Philippines, Poland, Ecuador, Iran, Guatemala, Holand-Netherlands, Taiwan, Nicaragua, France, Jamaica, Scotland, Yugoslavia, Hong Kong, Trinadad&Tobago, Greece, Cambodia, Ireland.\n",
      "citizenship: Native- Born in the United States, Foreign born- Not a citizen of U S , Native- Born in Puerto Rico or U S Outlying, Native- Born abroad of American Parent(s), Foreign born- U S citizen by naturalization.\n",
      "own business or self employed: 0, 2, 1.\n",
      "fill inc questionnaire for veteran's admin: Not in universe, Yes, No.\n",
      "veterans benefits: 0, 2, 1.\n",
      "weeks worked in year: continuous.\n",
      "year: 94, 95.\n",
      "\n"
     ]
    }
   ],
   "source": [
    "#Load data\n",
    "train_data = pd.read_csv('/Users/leighajarett/Desktop/us_census_full/census_income_learn.csv', header = None)\n",
    "test_data = pd.read_csv('/Users/leighajarett/Desktop/us_census_full/census_income_test.csv', header = None)\n",
    "f = open('/Users/leighajarett/Desktop/us_census_full/census_income_metadata.txt', 'r')\n",
    "print(f.read())\n",
    "f.close()"
   ]
  },
  {
   "cell_type": "code",
   "execution_count": 4,
   "metadata": {
    "collapsed": true
   },
   "outputs": [],
   "source": [
    "#Remove column 24 - \"instance weight: ignore\" \n",
    "iw_train = train_data.ix[:,24]\n",
    "del train_data[24]\n",
    "\n",
    "iw_test = test_data.ix[:,24]\n",
    "del test_data[24]"
   ]
  },
  {
   "cell_type": "code",
   "execution_count": 10,
   "metadata": {
    "collapsed": true
   },
   "outputs": [],
   "source": [
    "#Give Column Names\n",
    "column_names = ['age', 'work_class', 'industry_recode', 'occupation_recode', 'education', 'wage_per_hour', 'currently_in_school', 'marital_status','industry_code','occupation_code', 'race', 'hispanic_origin','sex','member_of_labor_union','reason_for_unemployment','full_or_parttime_status','captial_gains','capital_losses','dividendes_from_stocks','tax_filer_status','region_previous_residence','state_previous_residence','household_and_fam_stat','house_summary_in_household','migration_code_change_msa','migration_code_change_reg','migration_code_move_within_reg','live_this_house_1year','migration_prev_res_sunbelt','num_persons_worked_for_employer','family_members_under_18','country_of_birth_father','country_of_birth_mother','country_of_birth_self','citizenship','own_business_or_self_employed','fill_inc_questionnaire_veterns_admin','veterans_benefits','weeks_worked_in_year','year','income']\n",
    "train_data.columns =column_names\n",
    "test_data.columns =column_names"
   ]
  },
  {
   "cell_type": "code",
   "execution_count": 19,
   "metadata": {
    "collapsed": false
   },
   "outputs": [
    {
     "data": {
      "text/html": [
       "<div>\n",
       "<table border=\"1\" class=\"dataframe\">\n",
       "  <thead>\n",
       "    <tr style=\"text-align: right;\">\n",
       "      <th></th>\n",
       "      <th>age</th>\n",
       "      <th>work_class</th>\n",
       "      <th>industry_recode</th>\n",
       "      <th>occupation_recode</th>\n",
       "      <th>education</th>\n",
       "      <th>wage_per_hour</th>\n",
       "      <th>currently_in_school</th>\n",
       "      <th>marital_status</th>\n",
       "      <th>industry_code</th>\n",
       "      <th>occupation_code</th>\n",
       "      <th>...</th>\n",
       "      <th>country_of_birth_father</th>\n",
       "      <th>country_of_birth_mother</th>\n",
       "      <th>country_of_birth_self</th>\n",
       "      <th>citizenship</th>\n",
       "      <th>own_business_or_self_employed</th>\n",
       "      <th>fill_inc_questionnaire_veterns_admin</th>\n",
       "      <th>veterans_benefits</th>\n",
       "      <th>weeks_worked_in_year</th>\n",
       "      <th>year</th>\n",
       "      <th>income</th>\n",
       "    </tr>\n",
       "  </thead>\n",
       "  <tbody>\n",
       "    <tr>\n",
       "      <th>0</th>\n",
       "      <td>73</td>\n",
       "      <td>Not in universe</td>\n",
       "      <td>0</td>\n",
       "      <td>0</td>\n",
       "      <td>High school graduate</td>\n",
       "      <td>0</td>\n",
       "      <td>Not in universe</td>\n",
       "      <td>Widowed</td>\n",
       "      <td>Not in universe or children</td>\n",
       "      <td>Not in universe</td>\n",
       "      <td>...</td>\n",
       "      <td>United-States</td>\n",
       "      <td>United-States</td>\n",
       "      <td>United-States</td>\n",
       "      <td>Native- Born in the United States</td>\n",
       "      <td>0</td>\n",
       "      <td>Not in universe</td>\n",
       "      <td>2</td>\n",
       "      <td>0</td>\n",
       "      <td>95</td>\n",
       "      <td>- 50000.</td>\n",
       "    </tr>\n",
       "    <tr>\n",
       "      <th>1</th>\n",
       "      <td>58</td>\n",
       "      <td>Self-employed-not incorporated</td>\n",
       "      <td>4</td>\n",
       "      <td>34</td>\n",
       "      <td>Some college but no degree</td>\n",
       "      <td>0</td>\n",
       "      <td>Not in universe</td>\n",
       "      <td>Divorced</td>\n",
       "      <td>Construction</td>\n",
       "      <td>Precision production craft &amp; repair</td>\n",
       "      <td>...</td>\n",
       "      <td>United-States</td>\n",
       "      <td>United-States</td>\n",
       "      <td>United-States</td>\n",
       "      <td>Native- Born in the United States</td>\n",
       "      <td>0</td>\n",
       "      <td>Not in universe</td>\n",
       "      <td>2</td>\n",
       "      <td>52</td>\n",
       "      <td>94</td>\n",
       "      <td>- 50000.</td>\n",
       "    </tr>\n",
       "    <tr>\n",
       "      <th>2</th>\n",
       "      <td>18</td>\n",
       "      <td>Not in universe</td>\n",
       "      <td>0</td>\n",
       "      <td>0</td>\n",
       "      <td>10th grade</td>\n",
       "      <td>0</td>\n",
       "      <td>High school</td>\n",
       "      <td>Never married</td>\n",
       "      <td>Not in universe or children</td>\n",
       "      <td>Not in universe</td>\n",
       "      <td>...</td>\n",
       "      <td>Vietnam</td>\n",
       "      <td>Vietnam</td>\n",
       "      <td>Vietnam</td>\n",
       "      <td>Foreign born- Not a citizen of U S</td>\n",
       "      <td>0</td>\n",
       "      <td>Not in universe</td>\n",
       "      <td>2</td>\n",
       "      <td>0</td>\n",
       "      <td>95</td>\n",
       "      <td>- 50000.</td>\n",
       "    </tr>\n",
       "    <tr>\n",
       "      <th>3</th>\n",
       "      <td>9</td>\n",
       "      <td>Not in universe</td>\n",
       "      <td>0</td>\n",
       "      <td>0</td>\n",
       "      <td>Children</td>\n",
       "      <td>0</td>\n",
       "      <td>Not in universe</td>\n",
       "      <td>Never married</td>\n",
       "      <td>Not in universe or children</td>\n",
       "      <td>Not in universe</td>\n",
       "      <td>...</td>\n",
       "      <td>United-States</td>\n",
       "      <td>United-States</td>\n",
       "      <td>United-States</td>\n",
       "      <td>Native- Born in the United States</td>\n",
       "      <td>0</td>\n",
       "      <td>Not in universe</td>\n",
       "      <td>0</td>\n",
       "      <td>0</td>\n",
       "      <td>94</td>\n",
       "      <td>- 50000.</td>\n",
       "    </tr>\n",
       "    <tr>\n",
       "      <th>4</th>\n",
       "      <td>10</td>\n",
       "      <td>Not in universe</td>\n",
       "      <td>0</td>\n",
       "      <td>0</td>\n",
       "      <td>Children</td>\n",
       "      <td>0</td>\n",
       "      <td>Not in universe</td>\n",
       "      <td>Never married</td>\n",
       "      <td>Not in universe or children</td>\n",
       "      <td>Not in universe</td>\n",
       "      <td>...</td>\n",
       "      <td>United-States</td>\n",
       "      <td>United-States</td>\n",
       "      <td>United-States</td>\n",
       "      <td>Native- Born in the United States</td>\n",
       "      <td>0</td>\n",
       "      <td>Not in universe</td>\n",
       "      <td>0</td>\n",
       "      <td>0</td>\n",
       "      <td>94</td>\n",
       "      <td>- 50000.</td>\n",
       "    </tr>\n",
       "    <tr>\n",
       "      <th>5</th>\n",
       "      <td>48</td>\n",
       "      <td>Private</td>\n",
       "      <td>40</td>\n",
       "      <td>10</td>\n",
       "      <td>Some college but no degree</td>\n",
       "      <td>1200</td>\n",
       "      <td>Not in universe</td>\n",
       "      <td>Married-civilian spouse present</td>\n",
       "      <td>Entertainment</td>\n",
       "      <td>Professional specialty</td>\n",
       "      <td>...</td>\n",
       "      <td>Philippines</td>\n",
       "      <td>United-States</td>\n",
       "      <td>United-States</td>\n",
       "      <td>Native- Born in the United States</td>\n",
       "      <td>2</td>\n",
       "      <td>Not in universe</td>\n",
       "      <td>2</td>\n",
       "      <td>52</td>\n",
       "      <td>95</td>\n",
       "      <td>- 50000.</td>\n",
       "    </tr>\n",
       "    <tr>\n",
       "      <th>6</th>\n",
       "      <td>42</td>\n",
       "      <td>Private</td>\n",
       "      <td>34</td>\n",
       "      <td>3</td>\n",
       "      <td>Bachelors degree(BA AB BS)</td>\n",
       "      <td>0</td>\n",
       "      <td>Not in universe</td>\n",
       "      <td>Married-civilian spouse present</td>\n",
       "      <td>Finance insurance and real estate</td>\n",
       "      <td>Executive admin and managerial</td>\n",
       "      <td>...</td>\n",
       "      <td>United-States</td>\n",
       "      <td>United-States</td>\n",
       "      <td>United-States</td>\n",
       "      <td>Native- Born in the United States</td>\n",
       "      <td>0</td>\n",
       "      <td>Not in universe</td>\n",
       "      <td>2</td>\n",
       "      <td>52</td>\n",
       "      <td>94</td>\n",
       "      <td>- 50000.</td>\n",
       "    </tr>\n",
       "    <tr>\n",
       "      <th>7</th>\n",
       "      <td>28</td>\n",
       "      <td>Private</td>\n",
       "      <td>4</td>\n",
       "      <td>40</td>\n",
       "      <td>High school graduate</td>\n",
       "      <td>0</td>\n",
       "      <td>Not in universe</td>\n",
       "      <td>Never married</td>\n",
       "      <td>Construction</td>\n",
       "      <td>Handlers equip cleaners etc</td>\n",
       "      <td>...</td>\n",
       "      <td>United-States</td>\n",
       "      <td>United-States</td>\n",
       "      <td>United-States</td>\n",
       "      <td>Native- Born in the United States</td>\n",
       "      <td>0</td>\n",
       "      <td>Not in universe</td>\n",
       "      <td>2</td>\n",
       "      <td>30</td>\n",
       "      <td>95</td>\n",
       "      <td>- 50000.</td>\n",
       "    </tr>\n",
       "    <tr>\n",
       "      <th>8</th>\n",
       "      <td>47</td>\n",
       "      <td>Local government</td>\n",
       "      <td>43</td>\n",
       "      <td>26</td>\n",
       "      <td>Some college but no degree</td>\n",
       "      <td>876</td>\n",
       "      <td>Not in universe</td>\n",
       "      <td>Married-civilian spouse present</td>\n",
       "      <td>Education</td>\n",
       "      <td>Adm support including clerical</td>\n",
       "      <td>...</td>\n",
       "      <td>United-States</td>\n",
       "      <td>United-States</td>\n",
       "      <td>United-States</td>\n",
       "      <td>Native- Born in the United States</td>\n",
       "      <td>0</td>\n",
       "      <td>Not in universe</td>\n",
       "      <td>2</td>\n",
       "      <td>52</td>\n",
       "      <td>95</td>\n",
       "      <td>- 50000.</td>\n",
       "    </tr>\n",
       "    <tr>\n",
       "      <th>9</th>\n",
       "      <td>34</td>\n",
       "      <td>Private</td>\n",
       "      <td>4</td>\n",
       "      <td>37</td>\n",
       "      <td>Some college but no degree</td>\n",
       "      <td>0</td>\n",
       "      <td>Not in universe</td>\n",
       "      <td>Married-civilian spouse present</td>\n",
       "      <td>Construction</td>\n",
       "      <td>Machine operators assmblrs &amp; inspctrs</td>\n",
       "      <td>...</td>\n",
       "      <td>United-States</td>\n",
       "      <td>United-States</td>\n",
       "      <td>United-States</td>\n",
       "      <td>Native- Born in the United States</td>\n",
       "      <td>0</td>\n",
       "      <td>Not in universe</td>\n",
       "      <td>2</td>\n",
       "      <td>52</td>\n",
       "      <td>94</td>\n",
       "      <td>- 50000.</td>\n",
       "    </tr>\n",
       "    <tr>\n",
       "      <th>10</th>\n",
       "      <td>8</td>\n",
       "      <td>Not in universe</td>\n",
       "      <td>0</td>\n",
       "      <td>0</td>\n",
       "      <td>Children</td>\n",
       "      <td>0</td>\n",
       "      <td>Not in universe</td>\n",
       "      <td>Never married</td>\n",
       "      <td>Not in universe or children</td>\n",
       "      <td>Not in universe</td>\n",
       "      <td>...</td>\n",
       "      <td>United-States</td>\n",
       "      <td>United-States</td>\n",
       "      <td>United-States</td>\n",
       "      <td>Native- Born in the United States</td>\n",
       "      <td>0</td>\n",
       "      <td>Not in universe</td>\n",
       "      <td>0</td>\n",
       "      <td>0</td>\n",
       "      <td>94</td>\n",
       "      <td>- 50000.</td>\n",
       "    </tr>\n",
       "    <tr>\n",
       "      <th>11</th>\n",
       "      <td>32</td>\n",
       "      <td>Not in universe</td>\n",
       "      <td>0</td>\n",
       "      <td>0</td>\n",
       "      <td>High school graduate</td>\n",
       "      <td>0</td>\n",
       "      <td>Not in universe</td>\n",
       "      <td>Never married</td>\n",
       "      <td>Not in universe or children</td>\n",
       "      <td>Not in universe</td>\n",
       "      <td>...</td>\n",
       "      <td>?</td>\n",
       "      <td>?</td>\n",
       "      <td>?</td>\n",
       "      <td>Foreign born- Not a citizen of U S</td>\n",
       "      <td>0</td>\n",
       "      <td>Not in universe</td>\n",
       "      <td>2</td>\n",
       "      <td>0</td>\n",
       "      <td>95</td>\n",
       "      <td>- 50000.</td>\n",
       "    </tr>\n",
       "    <tr>\n",
       "      <th>12</th>\n",
       "      <td>51</td>\n",
       "      <td>Private</td>\n",
       "      <td>4</td>\n",
       "      <td>34</td>\n",
       "      <td>Some college but no degree</td>\n",
       "      <td>0</td>\n",
       "      <td>Not in universe</td>\n",
       "      <td>Married-civilian spouse present</td>\n",
       "      <td>Construction</td>\n",
       "      <td>Precision production craft &amp; repair</td>\n",
       "      <td>...</td>\n",
       "      <td>United-States</td>\n",
       "      <td>United-States</td>\n",
       "      <td>United-States</td>\n",
       "      <td>Native- Born in the United States</td>\n",
       "      <td>0</td>\n",
       "      <td>Not in universe</td>\n",
       "      <td>2</td>\n",
       "      <td>52</td>\n",
       "      <td>94</td>\n",
       "      <td>- 50000.</td>\n",
       "    </tr>\n",
       "    <tr>\n",
       "      <th>13</th>\n",
       "      <td>46</td>\n",
       "      <td>Private</td>\n",
       "      <td>37</td>\n",
       "      <td>31</td>\n",
       "      <td>High school graduate</td>\n",
       "      <td>0</td>\n",
       "      <td>Not in universe</td>\n",
       "      <td>Divorced</td>\n",
       "      <td>Business and repair services</td>\n",
       "      <td>Other service</td>\n",
       "      <td>...</td>\n",
       "      <td>Columbia</td>\n",
       "      <td>Columbia</td>\n",
       "      <td>Columbia</td>\n",
       "      <td>Foreign born- Not a citizen of U S</td>\n",
       "      <td>0</td>\n",
       "      <td>Not in universe</td>\n",
       "      <td>2</td>\n",
       "      <td>52</td>\n",
       "      <td>94</td>\n",
       "      <td>- 50000.</td>\n",
       "    </tr>\n",
       "    <tr>\n",
       "      <th>14</th>\n",
       "      <td>26</td>\n",
       "      <td>Private</td>\n",
       "      <td>24</td>\n",
       "      <td>12</td>\n",
       "      <td>Bachelors degree(BA AB BS)</td>\n",
       "      <td>0</td>\n",
       "      <td>Not in universe</td>\n",
       "      <td>Never married</td>\n",
       "      <td>Manufacturing-nondurable goods</td>\n",
       "      <td>Professional specialty</td>\n",
       "      <td>...</td>\n",
       "      <td>United-States</td>\n",
       "      <td>United-States</td>\n",
       "      <td>United-States</td>\n",
       "      <td>Native- Born in the United States</td>\n",
       "      <td>0</td>\n",
       "      <td>Not in universe</td>\n",
       "      <td>2</td>\n",
       "      <td>52</td>\n",
       "      <td>95</td>\n",
       "      <td>- 50000.</td>\n",
       "    </tr>\n",
       "    <tr>\n",
       "      <th>15</th>\n",
       "      <td>13</td>\n",
       "      <td>Not in universe</td>\n",
       "      <td>0</td>\n",
       "      <td>0</td>\n",
       "      <td>Children</td>\n",
       "      <td>0</td>\n",
       "      <td>Not in universe</td>\n",
       "      <td>Never married</td>\n",
       "      <td>Not in universe or children</td>\n",
       "      <td>Not in universe</td>\n",
       "      <td>...</td>\n",
       "      <td>United-States</td>\n",
       "      <td>United-States</td>\n",
       "      <td>United-States</td>\n",
       "      <td>Native- Born in the United States</td>\n",
       "      <td>0</td>\n",
       "      <td>Not in universe</td>\n",
       "      <td>0</td>\n",
       "      <td>0</td>\n",
       "      <td>94</td>\n",
       "      <td>- 50000.</td>\n",
       "    </tr>\n",
       "    <tr>\n",
       "      <th>16</th>\n",
       "      <td>47</td>\n",
       "      <td>Private</td>\n",
       "      <td>39</td>\n",
       "      <td>36</td>\n",
       "      <td>Bachelors degree(BA AB BS)</td>\n",
       "      <td>0</td>\n",
       "      <td>Not in universe</td>\n",
       "      <td>Never married</td>\n",
       "      <td>Personal services except private HH</td>\n",
       "      <td>Machine operators assmblrs &amp; inspctrs</td>\n",
       "      <td>...</td>\n",
       "      <td>Germany</td>\n",
       "      <td>United-States</td>\n",
       "      <td>United-States</td>\n",
       "      <td>Native- Born in the United States</td>\n",
       "      <td>0</td>\n",
       "      <td>Not in universe</td>\n",
       "      <td>2</td>\n",
       "      <td>52</td>\n",
       "      <td>95</td>\n",
       "      <td>- 50000.</td>\n",
       "    </tr>\n",
       "    <tr>\n",
       "      <th>17</th>\n",
       "      <td>39</td>\n",
       "      <td>Not in universe</td>\n",
       "      <td>0</td>\n",
       "      <td>0</td>\n",
       "      <td>10th grade</td>\n",
       "      <td>0</td>\n",
       "      <td>Not in universe</td>\n",
       "      <td>Married-civilian spouse present</td>\n",
       "      <td>Not in universe or children</td>\n",
       "      <td>Not in universe</td>\n",
       "      <td>...</td>\n",
       "      <td>Mexico</td>\n",
       "      <td>Mexico</td>\n",
       "      <td>Mexico</td>\n",
       "      <td>Foreign born- Not a citizen of U S</td>\n",
       "      <td>0</td>\n",
       "      <td>Not in universe</td>\n",
       "      <td>2</td>\n",
       "      <td>0</td>\n",
       "      <td>94</td>\n",
       "      <td>- 50000.</td>\n",
       "    </tr>\n",
       "    <tr>\n",
       "      <th>18</th>\n",
       "      <td>16</td>\n",
       "      <td>Not in universe</td>\n",
       "      <td>0</td>\n",
       "      <td>0</td>\n",
       "      <td>10th grade</td>\n",
       "      <td>0</td>\n",
       "      <td>High school</td>\n",
       "      <td>Never married</td>\n",
       "      <td>Not in universe or children</td>\n",
       "      <td>Not in universe</td>\n",
       "      <td>...</td>\n",
       "      <td>United-States</td>\n",
       "      <td>El-Salvador</td>\n",
       "      <td>United-States</td>\n",
       "      <td>Native- Born in the United States</td>\n",
       "      <td>0</td>\n",
       "      <td>Not in universe</td>\n",
       "      <td>2</td>\n",
       "      <td>0</td>\n",
       "      <td>95</td>\n",
       "      <td>- 50000.</td>\n",
       "    </tr>\n",
       "    <tr>\n",
       "      <th>19</th>\n",
       "      <td>35</td>\n",
       "      <td>Private</td>\n",
       "      <td>12</td>\n",
       "      <td>41</td>\n",
       "      <td>High school graduate</td>\n",
       "      <td>0</td>\n",
       "      <td>Not in universe</td>\n",
       "      <td>Married-civilian spouse present</td>\n",
       "      <td>Manufacturing-durable goods</td>\n",
       "      <td>Handlers equip cleaners etc</td>\n",
       "      <td>...</td>\n",
       "      <td>United-States</td>\n",
       "      <td>United-States</td>\n",
       "      <td>United-States</td>\n",
       "      <td>Native- Born in the United States</td>\n",
       "      <td>0</td>\n",
       "      <td>Not in universe</td>\n",
       "      <td>2</td>\n",
       "      <td>49</td>\n",
       "      <td>95</td>\n",
       "      <td>- 50000.</td>\n",
       "    </tr>\n",
       "    <tr>\n",
       "      <th>20</th>\n",
       "      <td>12</td>\n",
       "      <td>Not in universe</td>\n",
       "      <td>0</td>\n",
       "      <td>0</td>\n",
       "      <td>Children</td>\n",
       "      <td>0</td>\n",
       "      <td>Not in universe</td>\n",
       "      <td>Never married</td>\n",
       "      <td>Not in universe or children</td>\n",
       "      <td>Not in universe</td>\n",
       "      <td>...</td>\n",
       "      <td>United-States</td>\n",
       "      <td>United-States</td>\n",
       "      <td>United-States</td>\n",
       "      <td>Native- Born in the United States</td>\n",
       "      <td>0</td>\n",
       "      <td>Not in universe</td>\n",
       "      <td>0</td>\n",
       "      <td>0</td>\n",
       "      <td>94</td>\n",
       "      <td>- 50000.</td>\n",
       "    </tr>\n",
       "    <tr>\n",
       "      <th>21</th>\n",
       "      <td>27</td>\n",
       "      <td>Self-employed-not incorporated</td>\n",
       "      <td>4</td>\n",
       "      <td>34</td>\n",
       "      <td>Some college but no degree</td>\n",
       "      <td>0</td>\n",
       "      <td>Not in universe</td>\n",
       "      <td>Married-civilian spouse present</td>\n",
       "      <td>Construction</td>\n",
       "      <td>Precision production craft &amp; repair</td>\n",
       "      <td>...</td>\n",
       "      <td>United-States</td>\n",
       "      <td>United-States</td>\n",
       "      <td>United-States</td>\n",
       "      <td>Native- Born in the United States</td>\n",
       "      <td>1</td>\n",
       "      <td>Not in universe</td>\n",
       "      <td>2</td>\n",
       "      <td>52</td>\n",
       "      <td>94</td>\n",
       "      <td>- 50000.</td>\n",
       "    </tr>\n",
       "    <tr>\n",
       "      <th>22</th>\n",
       "      <td>56</td>\n",
       "      <td>Private</td>\n",
       "      <td>35</td>\n",
       "      <td>22</td>\n",
       "      <td>Some college but no degree</td>\n",
       "      <td>500</td>\n",
       "      <td>Not in universe</td>\n",
       "      <td>Married-civilian spouse present</td>\n",
       "      <td>Finance insurance and real estate</td>\n",
       "      <td>Adm support including clerical</td>\n",
       "      <td>...</td>\n",
       "      <td>United-States</td>\n",
       "      <td>United-States</td>\n",
       "      <td>United-States</td>\n",
       "      <td>Native- Born in the United States</td>\n",
       "      <td>2</td>\n",
       "      <td>Not in universe</td>\n",
       "      <td>2</td>\n",
       "      <td>32</td>\n",
       "      <td>95</td>\n",
       "      <td>- 50000.</td>\n",
       "    </tr>\n",
       "    <tr>\n",
       "      <th>23</th>\n",
       "      <td>46</td>\n",
       "      <td>Private</td>\n",
       "      <td>45</td>\n",
       "      <td>12</td>\n",
       "      <td>Masters degree(MA MS MEng MEd MSW MBA)</td>\n",
       "      <td>0</td>\n",
       "      <td>Not in universe</td>\n",
       "      <td>Married-civilian spouse present</td>\n",
       "      <td>Other professional services</td>\n",
       "      <td>Professional specialty</td>\n",
       "      <td>...</td>\n",
       "      <td>United-States</td>\n",
       "      <td>United-States</td>\n",
       "      <td>United-States</td>\n",
       "      <td>Native- Born in the United States</td>\n",
       "      <td>0</td>\n",
       "      <td>Not in universe</td>\n",
       "      <td>2</td>\n",
       "      <td>52</td>\n",
       "      <td>94</td>\n",
       "      <td>- 50000.</td>\n",
       "    </tr>\n",
       "    <tr>\n",
       "      <th>24</th>\n",
       "      <td>55</td>\n",
       "      <td>Not in universe</td>\n",
       "      <td>0</td>\n",
       "      <td>0</td>\n",
       "      <td>Some college but no degree</td>\n",
       "      <td>0</td>\n",
       "      <td>Not in universe</td>\n",
       "      <td>Married-civilian spouse present</td>\n",
       "      <td>Not in universe or children</td>\n",
       "      <td>Not in universe</td>\n",
       "      <td>...</td>\n",
       "      <td>Japan</td>\n",
       "      <td>United-States</td>\n",
       "      <td>United-States</td>\n",
       "      <td>Native- Born in the United States</td>\n",
       "      <td>0</td>\n",
       "      <td>Not in universe</td>\n",
       "      <td>2</td>\n",
       "      <td>0</td>\n",
       "      <td>94</td>\n",
       "      <td>- 50000.</td>\n",
       "    </tr>\n",
       "    <tr>\n",
       "      <th>25</th>\n",
       "      <td>2</td>\n",
       "      <td>Not in universe</td>\n",
       "      <td>0</td>\n",
       "      <td>0</td>\n",
       "      <td>Children</td>\n",
       "      <td>0</td>\n",
       "      <td>Not in universe</td>\n",
       "      <td>Never married</td>\n",
       "      <td>Not in universe or children</td>\n",
       "      <td>Not in universe</td>\n",
       "      <td>...</td>\n",
       "      <td>United-States</td>\n",
       "      <td>United-States</td>\n",
       "      <td>United-States</td>\n",
       "      <td>Native- Born in the United States</td>\n",
       "      <td>0</td>\n",
       "      <td>Not in universe</td>\n",
       "      <td>0</td>\n",
       "      <td>0</td>\n",
       "      <td>94</td>\n",
       "      <td>- 50000.</td>\n",
       "    </tr>\n",
       "    <tr>\n",
       "      <th>26</th>\n",
       "      <td>1</td>\n",
       "      <td>Not in universe</td>\n",
       "      <td>0</td>\n",
       "      <td>0</td>\n",
       "      <td>Children</td>\n",
       "      <td>0</td>\n",
       "      <td>Not in universe</td>\n",
       "      <td>Never married</td>\n",
       "      <td>Not in universe or children</td>\n",
       "      <td>Not in universe</td>\n",
       "      <td>...</td>\n",
       "      <td>?</td>\n",
       "      <td>?</td>\n",
       "      <td>United-States</td>\n",
       "      <td>Native- Born in the United States</td>\n",
       "      <td>0</td>\n",
       "      <td>Not in universe</td>\n",
       "      <td>0</td>\n",
       "      <td>0</td>\n",
       "      <td>94</td>\n",
       "      <td>- 50000.</td>\n",
       "    </tr>\n",
       "    <tr>\n",
       "      <th>27</th>\n",
       "      <td>37</td>\n",
       "      <td>Private</td>\n",
       "      <td>3</td>\n",
       "      <td>34</td>\n",
       "      <td>Some college but no degree</td>\n",
       "      <td>0</td>\n",
       "      <td>Not in universe</td>\n",
       "      <td>Married-civilian spouse present</td>\n",
       "      <td>Mining</td>\n",
       "      <td>Precision production craft &amp; repair</td>\n",
       "      <td>...</td>\n",
       "      <td>United-States</td>\n",
       "      <td>United-States</td>\n",
       "      <td>United-States</td>\n",
       "      <td>Native- Born in the United States</td>\n",
       "      <td>0</td>\n",
       "      <td>Not in universe</td>\n",
       "      <td>2</td>\n",
       "      <td>52</td>\n",
       "      <td>95</td>\n",
       "      <td>- 50000.</td>\n",
       "    </tr>\n",
       "    <tr>\n",
       "      <th>28</th>\n",
       "      <td>4</td>\n",
       "      <td>Not in universe</td>\n",
       "      <td>0</td>\n",
       "      <td>0</td>\n",
       "      <td>Children</td>\n",
       "      <td>0</td>\n",
       "      <td>Not in universe</td>\n",
       "      <td>Never married</td>\n",
       "      <td>Not in universe or children</td>\n",
       "      <td>Not in universe</td>\n",
       "      <td>...</td>\n",
       "      <td>United-States</td>\n",
       "      <td>United-States</td>\n",
       "      <td>United-States</td>\n",
       "      <td>Native- Born in the United States</td>\n",
       "      <td>0</td>\n",
       "      <td>Not in universe</td>\n",
       "      <td>0</td>\n",
       "      <td>0</td>\n",
       "      <td>95</td>\n",
       "      <td>- 50000.</td>\n",
       "    </tr>\n",
       "    <tr>\n",
       "      <th>29</th>\n",
       "      <td>37</td>\n",
       "      <td>Private</td>\n",
       "      <td>4</td>\n",
       "      <td>2</td>\n",
       "      <td>Bachelors degree(BA AB BS)</td>\n",
       "      <td>0</td>\n",
       "      <td>Not in universe</td>\n",
       "      <td>Never married</td>\n",
       "      <td>Construction</td>\n",
       "      <td>Executive admin and managerial</td>\n",
       "      <td>...</td>\n",
       "      <td>United-States</td>\n",
       "      <td>United-States</td>\n",
       "      <td>United-States</td>\n",
       "      <td>Native- Born in the United States</td>\n",
       "      <td>0</td>\n",
       "      <td>Not in universe</td>\n",
       "      <td>2</td>\n",
       "      <td>52</td>\n",
       "      <td>94</td>\n",
       "      <td>- 50000.</td>\n",
       "    </tr>\n",
       "    <tr>\n",
       "      <th>...</th>\n",
       "      <td>...</td>\n",
       "      <td>...</td>\n",
       "      <td>...</td>\n",
       "      <td>...</td>\n",
       "      <td>...</td>\n",
       "      <td>...</td>\n",
       "      <td>...</td>\n",
       "      <td>...</td>\n",
       "      <td>...</td>\n",
       "      <td>...</td>\n",
       "      <td>...</td>\n",
       "      <td>...</td>\n",
       "      <td>...</td>\n",
       "      <td>...</td>\n",
       "      <td>...</td>\n",
       "      <td>...</td>\n",
       "      <td>...</td>\n",
       "      <td>...</td>\n",
       "      <td>...</td>\n",
       "      <td>...</td>\n",
       "      <td>...</td>\n",
       "    </tr>\n",
       "    <tr>\n",
       "      <th>199493</th>\n",
       "      <td>13</td>\n",
       "      <td>Not in universe</td>\n",
       "      <td>0</td>\n",
       "      <td>0</td>\n",
       "      <td>Children</td>\n",
       "      <td>0</td>\n",
       "      <td>Not in universe</td>\n",
       "      <td>Never married</td>\n",
       "      <td>Not in universe or children</td>\n",
       "      <td>Not in universe</td>\n",
       "      <td>...</td>\n",
       "      <td>United-States</td>\n",
       "      <td>United-States</td>\n",
       "      <td>United-States</td>\n",
       "      <td>Native- Born in the United States</td>\n",
       "      <td>0</td>\n",
       "      <td>Not in universe</td>\n",
       "      <td>0</td>\n",
       "      <td>0</td>\n",
       "      <td>94</td>\n",
       "      <td>- 50000.</td>\n",
       "    </tr>\n",
       "    <tr>\n",
       "      <th>199494</th>\n",
       "      <td>5</td>\n",
       "      <td>Not in universe</td>\n",
       "      <td>0</td>\n",
       "      <td>0</td>\n",
       "      <td>Children</td>\n",
       "      <td>0</td>\n",
       "      <td>Not in universe</td>\n",
       "      <td>Never married</td>\n",
       "      <td>Not in universe or children</td>\n",
       "      <td>Not in universe</td>\n",
       "      <td>...</td>\n",
       "      <td>United-States</td>\n",
       "      <td>United-States</td>\n",
       "      <td>United-States</td>\n",
       "      <td>Native- Born in the United States</td>\n",
       "      <td>0</td>\n",
       "      <td>Not in universe</td>\n",
       "      <td>0</td>\n",
       "      <td>0</td>\n",
       "      <td>94</td>\n",
       "      <td>- 50000.</td>\n",
       "    </tr>\n",
       "    <tr>\n",
       "      <th>199495</th>\n",
       "      <td>44</td>\n",
       "      <td>Self-employed-not incorporated</td>\n",
       "      <td>38</td>\n",
       "      <td>2</td>\n",
       "      <td>Some college but no degree</td>\n",
       "      <td>0</td>\n",
       "      <td>Not in universe</td>\n",
       "      <td>Married-civilian spouse present</td>\n",
       "      <td>Business and repair services</td>\n",
       "      <td>Executive admin and managerial</td>\n",
       "      <td>...</td>\n",
       "      <td>United-States</td>\n",
       "      <td>United-States</td>\n",
       "      <td>United-States</td>\n",
       "      <td>Native- Born in the United States</td>\n",
       "      <td>0</td>\n",
       "      <td>Not in universe</td>\n",
       "      <td>2</td>\n",
       "      <td>50</td>\n",
       "      <td>94</td>\n",
       "      <td>- 50000.</td>\n",
       "    </tr>\n",
       "    <tr>\n",
       "      <th>199496</th>\n",
       "      <td>1</td>\n",
       "      <td>Not in universe</td>\n",
       "      <td>0</td>\n",
       "      <td>0</td>\n",
       "      <td>Children</td>\n",
       "      <td>0</td>\n",
       "      <td>Not in universe</td>\n",
       "      <td>Never married</td>\n",
       "      <td>Not in universe or children</td>\n",
       "      <td>Not in universe</td>\n",
       "      <td>...</td>\n",
       "      <td>United-States</td>\n",
       "      <td>United-States</td>\n",
       "      <td>United-States</td>\n",
       "      <td>Native- Born in the United States</td>\n",
       "      <td>0</td>\n",
       "      <td>Not in universe</td>\n",
       "      <td>0</td>\n",
       "      <td>0</td>\n",
       "      <td>94</td>\n",
       "      <td>- 50000.</td>\n",
       "    </tr>\n",
       "    <tr>\n",
       "      <th>199497</th>\n",
       "      <td>40</td>\n",
       "      <td>Self-employed-not incorporated</td>\n",
       "      <td>35</td>\n",
       "      <td>17</td>\n",
       "      <td>Bachelors degree(BA AB BS)</td>\n",
       "      <td>0</td>\n",
       "      <td>Not in universe</td>\n",
       "      <td>Married-civilian spouse present</td>\n",
       "      <td>Finance insurance and real estate</td>\n",
       "      <td>Sales</td>\n",
       "      <td>...</td>\n",
       "      <td>United-States</td>\n",
       "      <td>United-States</td>\n",
       "      <td>United-States</td>\n",
       "      <td>Native- Born in the United States</td>\n",
       "      <td>0</td>\n",
       "      <td>Not in universe</td>\n",
       "      <td>2</td>\n",
       "      <td>50</td>\n",
       "      <td>95</td>\n",
       "      <td>- 50000.</td>\n",
       "    </tr>\n",
       "    <tr>\n",
       "      <th>199498</th>\n",
       "      <td>50</td>\n",
       "      <td>Private</td>\n",
       "      <td>42</td>\n",
       "      <td>26</td>\n",
       "      <td>High school graduate</td>\n",
       "      <td>0</td>\n",
       "      <td>Not in universe</td>\n",
       "      <td>Married-civilian spouse present</td>\n",
       "      <td>Medical except hospital</td>\n",
       "      <td>Adm support including clerical</td>\n",
       "      <td>...</td>\n",
       "      <td>United-States</td>\n",
       "      <td>United-States</td>\n",
       "      <td>United-States</td>\n",
       "      <td>Native- Born in the United States</td>\n",
       "      <td>0</td>\n",
       "      <td>Not in universe</td>\n",
       "      <td>2</td>\n",
       "      <td>52</td>\n",
       "      <td>94</td>\n",
       "      <td>- 50000.</td>\n",
       "    </tr>\n",
       "    <tr>\n",
       "      <th>199499</th>\n",
       "      <td>59</td>\n",
       "      <td>Private</td>\n",
       "      <td>24</td>\n",
       "      <td>2</td>\n",
       "      <td>Bachelors degree(BA AB BS)</td>\n",
       "      <td>0</td>\n",
       "      <td>Not in universe</td>\n",
       "      <td>Married-civilian spouse present</td>\n",
       "      <td>Manufacturing-nondurable goods</td>\n",
       "      <td>Executive admin and managerial</td>\n",
       "      <td>...</td>\n",
       "      <td>United-States</td>\n",
       "      <td>United-States</td>\n",
       "      <td>United-States</td>\n",
       "      <td>Native- Born in the United States</td>\n",
       "      <td>0</td>\n",
       "      <td>Not in universe</td>\n",
       "      <td>2</td>\n",
       "      <td>52</td>\n",
       "      <td>95</td>\n",
       "      <td>50000+.</td>\n",
       "    </tr>\n",
       "    <tr>\n",
       "      <th>199500</th>\n",
       "      <td>74</td>\n",
       "      <td>State government</td>\n",
       "      <td>44</td>\n",
       "      <td>42</td>\n",
       "      <td>7th and 8th grade</td>\n",
       "      <td>0</td>\n",
       "      <td>Not in universe</td>\n",
       "      <td>Widowed</td>\n",
       "      <td>Social services</td>\n",
       "      <td>Handlers equip cleaners etc</td>\n",
       "      <td>...</td>\n",
       "      <td>?</td>\n",
       "      <td>United-States</td>\n",
       "      <td>United-States</td>\n",
       "      <td>Native- Born in the United States</td>\n",
       "      <td>0</td>\n",
       "      <td>Not in universe</td>\n",
       "      <td>2</td>\n",
       "      <td>52</td>\n",
       "      <td>94</td>\n",
       "      <td>- 50000.</td>\n",
       "    </tr>\n",
       "    <tr>\n",
       "      <th>199501</th>\n",
       "      <td>13</td>\n",
       "      <td>Not in universe</td>\n",
       "      <td>0</td>\n",
       "      <td>0</td>\n",
       "      <td>Children</td>\n",
       "      <td>0</td>\n",
       "      <td>Not in universe</td>\n",
       "      <td>Never married</td>\n",
       "      <td>Not in universe or children</td>\n",
       "      <td>Not in universe</td>\n",
       "      <td>...</td>\n",
       "      <td>United-States</td>\n",
       "      <td>United-States</td>\n",
       "      <td>United-States</td>\n",
       "      <td>Native- Born in the United States</td>\n",
       "      <td>0</td>\n",
       "      <td>Not in universe</td>\n",
       "      <td>0</td>\n",
       "      <td>0</td>\n",
       "      <td>94</td>\n",
       "      <td>- 50000.</td>\n",
       "    </tr>\n",
       "    <tr>\n",
       "      <th>199502</th>\n",
       "      <td>50</td>\n",
       "      <td>Federal government</td>\n",
       "      <td>29</td>\n",
       "      <td>2</td>\n",
       "      <td>Some college but no degree</td>\n",
       "      <td>0</td>\n",
       "      <td>Not in universe</td>\n",
       "      <td>Married-civilian spouse present</td>\n",
       "      <td>Transportation</td>\n",
       "      <td>Executive admin and managerial</td>\n",
       "      <td>...</td>\n",
       "      <td>United-States</td>\n",
       "      <td>United-States</td>\n",
       "      <td>United-States</td>\n",
       "      <td>Native- Born in the United States</td>\n",
       "      <td>2</td>\n",
       "      <td>Not in universe</td>\n",
       "      <td>2</td>\n",
       "      <td>48</td>\n",
       "      <td>95</td>\n",
       "      <td>- 50000.</td>\n",
       "    </tr>\n",
       "    <tr>\n",
       "      <th>199503</th>\n",
       "      <td>24</td>\n",
       "      <td>Private</td>\n",
       "      <td>33</td>\n",
       "      <td>29</td>\n",
       "      <td>11th grade</td>\n",
       "      <td>0</td>\n",
       "      <td>Not in universe</td>\n",
       "      <td>Never married</td>\n",
       "      <td>Retail trade</td>\n",
       "      <td>Other service</td>\n",
       "      <td>...</td>\n",
       "      <td>United-States</td>\n",
       "      <td>United-States</td>\n",
       "      <td>United-States</td>\n",
       "      <td>Native- Born in the United States</td>\n",
       "      <td>2</td>\n",
       "      <td>Not in universe</td>\n",
       "      <td>2</td>\n",
       "      <td>52</td>\n",
       "      <td>95</td>\n",
       "      <td>- 50000.</td>\n",
       "    </tr>\n",
       "    <tr>\n",
       "      <th>199504</th>\n",
       "      <td>43</td>\n",
       "      <td>Private</td>\n",
       "      <td>22</td>\n",
       "      <td>36</td>\n",
       "      <td>High school graduate</td>\n",
       "      <td>0</td>\n",
       "      <td>Not in universe</td>\n",
       "      <td>Married-civilian spouse present</td>\n",
       "      <td>Manufacturing-nondurable goods</td>\n",
       "      <td>Machine operators assmblrs &amp; inspctrs</td>\n",
       "      <td>...</td>\n",
       "      <td>Mexico</td>\n",
       "      <td>Mexico</td>\n",
       "      <td>Mexico</td>\n",
       "      <td>Foreign born- Not a citizen of U S</td>\n",
       "      <td>0</td>\n",
       "      <td>Not in universe</td>\n",
       "      <td>2</td>\n",
       "      <td>52</td>\n",
       "      <td>95</td>\n",
       "      <td>- 50000.</td>\n",
       "    </tr>\n",
       "    <tr>\n",
       "      <th>199505</th>\n",
       "      <td>33</td>\n",
       "      <td>Private</td>\n",
       "      <td>34</td>\n",
       "      <td>3</td>\n",
       "      <td>High school graduate</td>\n",
       "      <td>0</td>\n",
       "      <td>Not in universe</td>\n",
       "      <td>Married-civilian spouse present</td>\n",
       "      <td>Finance insurance and real estate</td>\n",
       "      <td>Executive admin and managerial</td>\n",
       "      <td>...</td>\n",
       "      <td>United-States</td>\n",
       "      <td>United-States</td>\n",
       "      <td>United-States</td>\n",
       "      <td>Native- Born in the United States</td>\n",
       "      <td>0</td>\n",
       "      <td>Not in universe</td>\n",
       "      <td>2</td>\n",
       "      <td>52</td>\n",
       "      <td>95</td>\n",
       "      <td>- 50000.</td>\n",
       "    </tr>\n",
       "    <tr>\n",
       "      <th>199506</th>\n",
       "      <td>14</td>\n",
       "      <td>Not in universe</td>\n",
       "      <td>0</td>\n",
       "      <td>0</td>\n",
       "      <td>Children</td>\n",
       "      <td>0</td>\n",
       "      <td>Not in universe</td>\n",
       "      <td>Never married</td>\n",
       "      <td>Not in universe or children</td>\n",
       "      <td>Not in universe</td>\n",
       "      <td>...</td>\n",
       "      <td>United-States</td>\n",
       "      <td>United-States</td>\n",
       "      <td>United-States</td>\n",
       "      <td>Native- Born in the United States</td>\n",
       "      <td>0</td>\n",
       "      <td>Not in universe</td>\n",
       "      <td>0</td>\n",
       "      <td>0</td>\n",
       "      <td>94</td>\n",
       "      <td>- 50000.</td>\n",
       "    </tr>\n",
       "    <tr>\n",
       "      <th>199507</th>\n",
       "      <td>25</td>\n",
       "      <td>Self-employed-incorporated</td>\n",
       "      <td>33</td>\n",
       "      <td>16</td>\n",
       "      <td>Some college but no degree</td>\n",
       "      <td>0</td>\n",
       "      <td>Not in universe</td>\n",
       "      <td>Never married</td>\n",
       "      <td>Retail trade</td>\n",
       "      <td>Sales</td>\n",
       "      <td>...</td>\n",
       "      <td>?</td>\n",
       "      <td>?</td>\n",
       "      <td>?</td>\n",
       "      <td>Foreign born- U S citizen by naturalization</td>\n",
       "      <td>0</td>\n",
       "      <td>Not in universe</td>\n",
       "      <td>2</td>\n",
       "      <td>52</td>\n",
       "      <td>94</td>\n",
       "      <td>- 50000.</td>\n",
       "    </tr>\n",
       "    <tr>\n",
       "      <th>199508</th>\n",
       "      <td>62</td>\n",
       "      <td>Private</td>\n",
       "      <td>4</td>\n",
       "      <td>2</td>\n",
       "      <td>Some college but no degree</td>\n",
       "      <td>0</td>\n",
       "      <td>Not in universe</td>\n",
       "      <td>Married-spouse absent</td>\n",
       "      <td>Construction</td>\n",
       "      <td>Executive admin and managerial</td>\n",
       "      <td>...</td>\n",
       "      <td>Greece</td>\n",
       "      <td>United-States</td>\n",
       "      <td>United-States</td>\n",
       "      <td>Native- Born in the United States</td>\n",
       "      <td>2</td>\n",
       "      <td>Yes</td>\n",
       "      <td>1</td>\n",
       "      <td>52</td>\n",
       "      <td>95</td>\n",
       "      <td>50000+.</td>\n",
       "    </tr>\n",
       "    <tr>\n",
       "      <th>199509</th>\n",
       "      <td>47</td>\n",
       "      <td>Local government</td>\n",
       "      <td>43</td>\n",
       "      <td>12</td>\n",
       "      <td>Doctorate degree(PhD EdD)</td>\n",
       "      <td>0</td>\n",
       "      <td>Not in universe</td>\n",
       "      <td>Married-civilian spouse present</td>\n",
       "      <td>Education</td>\n",
       "      <td>Professional specialty</td>\n",
       "      <td>...</td>\n",
       "      <td>United-States</td>\n",
       "      <td>United-States</td>\n",
       "      <td>United-States</td>\n",
       "      <td>Native- Born in the United States</td>\n",
       "      <td>2</td>\n",
       "      <td>Not in universe</td>\n",
       "      <td>2</td>\n",
       "      <td>52</td>\n",
       "      <td>94</td>\n",
       "      <td>50000+.</td>\n",
       "    </tr>\n",
       "    <tr>\n",
       "      <th>199510</th>\n",
       "      <td>25</td>\n",
       "      <td>Private</td>\n",
       "      <td>33</td>\n",
       "      <td>41</td>\n",
       "      <td>Some college but no degree</td>\n",
       "      <td>0</td>\n",
       "      <td>Not in universe</td>\n",
       "      <td>Never married</td>\n",
       "      <td>Retail trade</td>\n",
       "      <td>Handlers equip cleaners etc</td>\n",
       "      <td>...</td>\n",
       "      <td>United-States</td>\n",
       "      <td>Germany</td>\n",
       "      <td>United-States</td>\n",
       "      <td>Native- Born in the United States</td>\n",
       "      <td>0</td>\n",
       "      <td>Not in universe</td>\n",
       "      <td>2</td>\n",
       "      <td>52</td>\n",
       "      <td>94</td>\n",
       "      <td>- 50000.</td>\n",
       "    </tr>\n",
       "    <tr>\n",
       "      <th>199511</th>\n",
       "      <td>47</td>\n",
       "      <td>Private</td>\n",
       "      <td>23</td>\n",
       "      <td>37</td>\n",
       "      <td>Some college but no degree</td>\n",
       "      <td>0</td>\n",
       "      <td>Not in universe</td>\n",
       "      <td>Married-civilian spouse present</td>\n",
       "      <td>Manufacturing-nondurable goods</td>\n",
       "      <td>Machine operators assmblrs &amp; inspctrs</td>\n",
       "      <td>...</td>\n",
       "      <td>United-States</td>\n",
       "      <td>United-States</td>\n",
       "      <td>United-States</td>\n",
       "      <td>Native- Born in the United States</td>\n",
       "      <td>0</td>\n",
       "      <td>Not in universe</td>\n",
       "      <td>2</td>\n",
       "      <td>52</td>\n",
       "      <td>95</td>\n",
       "      <td>- 50000.</td>\n",
       "    </tr>\n",
       "    <tr>\n",
       "      <th>199512</th>\n",
       "      <td>71</td>\n",
       "      <td>Not in universe</td>\n",
       "      <td>0</td>\n",
       "      <td>0</td>\n",
       "      <td>High school graduate</td>\n",
       "      <td>0</td>\n",
       "      <td>Not in universe</td>\n",
       "      <td>Married-civilian spouse present</td>\n",
       "      <td>Not in universe or children</td>\n",
       "      <td>Not in universe</td>\n",
       "      <td>...</td>\n",
       "      <td>United-States</td>\n",
       "      <td>United-States</td>\n",
       "      <td>United-States</td>\n",
       "      <td>Native- Born in the United States</td>\n",
       "      <td>0</td>\n",
       "      <td>Not in universe</td>\n",
       "      <td>2</td>\n",
       "      <td>0</td>\n",
       "      <td>95</td>\n",
       "      <td>- 50000.</td>\n",
       "    </tr>\n",
       "    <tr>\n",
       "      <th>199513</th>\n",
       "      <td>57</td>\n",
       "      <td>Private</td>\n",
       "      <td>9</td>\n",
       "      <td>37</td>\n",
       "      <td>9th grade</td>\n",
       "      <td>0</td>\n",
       "      <td>Not in universe</td>\n",
       "      <td>Divorced</td>\n",
       "      <td>Manufacturing-durable goods</td>\n",
       "      <td>Machine operators assmblrs &amp; inspctrs</td>\n",
       "      <td>...</td>\n",
       "      <td>Dominican-Republic</td>\n",
       "      <td>Dominican-Republic</td>\n",
       "      <td>Dominican-Republic</td>\n",
       "      <td>Foreign born- Not a citizen of U S</td>\n",
       "      <td>0</td>\n",
       "      <td>Not in universe</td>\n",
       "      <td>2</td>\n",
       "      <td>52</td>\n",
       "      <td>95</td>\n",
       "      <td>- 50000.</td>\n",
       "    </tr>\n",
       "    <tr>\n",
       "      <th>199514</th>\n",
       "      <td>51</td>\n",
       "      <td>Private</td>\n",
       "      <td>33</td>\n",
       "      <td>19</td>\n",
       "      <td>10th grade</td>\n",
       "      <td>0</td>\n",
       "      <td>Not in universe</td>\n",
       "      <td>Widowed</td>\n",
       "      <td>Retail trade</td>\n",
       "      <td>Sales</td>\n",
       "      <td>...</td>\n",
       "      <td>United-States</td>\n",
       "      <td>United-States</td>\n",
       "      <td>United-States</td>\n",
       "      <td>Native- Born in the United States</td>\n",
       "      <td>0</td>\n",
       "      <td>Not in universe</td>\n",
       "      <td>2</td>\n",
       "      <td>52</td>\n",
       "      <td>94</td>\n",
       "      <td>- 50000.</td>\n",
       "    </tr>\n",
       "    <tr>\n",
       "      <th>199515</th>\n",
       "      <td>87</td>\n",
       "      <td>Not in universe</td>\n",
       "      <td>0</td>\n",
       "      <td>0</td>\n",
       "      <td>High school graduate</td>\n",
       "      <td>0</td>\n",
       "      <td>Not in universe</td>\n",
       "      <td>Widowed</td>\n",
       "      <td>Not in universe or children</td>\n",
       "      <td>Not in universe</td>\n",
       "      <td>...</td>\n",
       "      <td>?</td>\n",
       "      <td>United-States</td>\n",
       "      <td>United-States</td>\n",
       "      <td>Native- Born in the United States</td>\n",
       "      <td>0</td>\n",
       "      <td>Not in universe</td>\n",
       "      <td>2</td>\n",
       "      <td>0</td>\n",
       "      <td>95</td>\n",
       "      <td>- 50000.</td>\n",
       "    </tr>\n",
       "    <tr>\n",
       "      <th>199516</th>\n",
       "      <td>3</td>\n",
       "      <td>Not in universe</td>\n",
       "      <td>0</td>\n",
       "      <td>0</td>\n",
       "      <td>Children</td>\n",
       "      <td>0</td>\n",
       "      <td>Not in universe</td>\n",
       "      <td>Never married</td>\n",
       "      <td>Not in universe or children</td>\n",
       "      <td>Not in universe</td>\n",
       "      <td>...</td>\n",
       "      <td>United-States</td>\n",
       "      <td>United-States</td>\n",
       "      <td>United-States</td>\n",
       "      <td>Native- Born in the United States</td>\n",
       "      <td>0</td>\n",
       "      <td>Not in universe</td>\n",
       "      <td>0</td>\n",
       "      <td>0</td>\n",
       "      <td>94</td>\n",
       "      <td>- 50000.</td>\n",
       "    </tr>\n",
       "    <tr>\n",
       "      <th>199517</th>\n",
       "      <td>39</td>\n",
       "      <td>Private</td>\n",
       "      <td>43</td>\n",
       "      <td>26</td>\n",
       "      <td>Bachelors degree(BA AB BS)</td>\n",
       "      <td>0</td>\n",
       "      <td>Not in universe</td>\n",
       "      <td>Never married</td>\n",
       "      <td>Education</td>\n",
       "      <td>Adm support including clerical</td>\n",
       "      <td>...</td>\n",
       "      <td>Mexico</td>\n",
       "      <td>Mexico</td>\n",
       "      <td>Mexico</td>\n",
       "      <td>Foreign born- Not a citizen of U S</td>\n",
       "      <td>2</td>\n",
       "      <td>Not in universe</td>\n",
       "      <td>2</td>\n",
       "      <td>52</td>\n",
       "      <td>95</td>\n",
       "      <td>- 50000.</td>\n",
       "    </tr>\n",
       "    <tr>\n",
       "      <th>199518</th>\n",
       "      <td>87</td>\n",
       "      <td>Not in universe</td>\n",
       "      <td>0</td>\n",
       "      <td>0</td>\n",
       "      <td>7th and 8th grade</td>\n",
       "      <td>0</td>\n",
       "      <td>Not in universe</td>\n",
       "      <td>Married-civilian spouse present</td>\n",
       "      <td>Not in universe or children</td>\n",
       "      <td>Not in universe</td>\n",
       "      <td>...</td>\n",
       "      <td>Canada</td>\n",
       "      <td>United-States</td>\n",
       "      <td>United-States</td>\n",
       "      <td>Native- Born in the United States</td>\n",
       "      <td>0</td>\n",
       "      <td>Not in universe</td>\n",
       "      <td>2</td>\n",
       "      <td>0</td>\n",
       "      <td>95</td>\n",
       "      <td>- 50000.</td>\n",
       "    </tr>\n",
       "    <tr>\n",
       "      <th>199519</th>\n",
       "      <td>65</td>\n",
       "      <td>Self-employed-incorporated</td>\n",
       "      <td>37</td>\n",
       "      <td>2</td>\n",
       "      <td>11th grade</td>\n",
       "      <td>0</td>\n",
       "      <td>Not in universe</td>\n",
       "      <td>Married-civilian spouse present</td>\n",
       "      <td>Business and repair services</td>\n",
       "      <td>Executive admin and managerial</td>\n",
       "      <td>...</td>\n",
       "      <td>United-States</td>\n",
       "      <td>United-States</td>\n",
       "      <td>United-States</td>\n",
       "      <td>Native- Born in the United States</td>\n",
       "      <td>0</td>\n",
       "      <td>Not in universe</td>\n",
       "      <td>2</td>\n",
       "      <td>52</td>\n",
       "      <td>94</td>\n",
       "      <td>- 50000.</td>\n",
       "    </tr>\n",
       "    <tr>\n",
       "      <th>199520</th>\n",
       "      <td>47</td>\n",
       "      <td>Not in universe</td>\n",
       "      <td>0</td>\n",
       "      <td>0</td>\n",
       "      <td>Some college but no degree</td>\n",
       "      <td>0</td>\n",
       "      <td>Not in universe</td>\n",
       "      <td>Married-civilian spouse present</td>\n",
       "      <td>Not in universe or children</td>\n",
       "      <td>Not in universe</td>\n",
       "      <td>...</td>\n",
       "      <td>Poland</td>\n",
       "      <td>Poland</td>\n",
       "      <td>Germany</td>\n",
       "      <td>Foreign born- U S citizen by naturalization</td>\n",
       "      <td>0</td>\n",
       "      <td>Not in universe</td>\n",
       "      <td>2</td>\n",
       "      <td>52</td>\n",
       "      <td>95</td>\n",
       "      <td>- 50000.</td>\n",
       "    </tr>\n",
       "    <tr>\n",
       "      <th>199521</th>\n",
       "      <td>16</td>\n",
       "      <td>Not in universe</td>\n",
       "      <td>0</td>\n",
       "      <td>0</td>\n",
       "      <td>10th grade</td>\n",
       "      <td>0</td>\n",
       "      <td>High school</td>\n",
       "      <td>Never married</td>\n",
       "      <td>Not in universe or children</td>\n",
       "      <td>Not in universe</td>\n",
       "      <td>...</td>\n",
       "      <td>United-States</td>\n",
       "      <td>United-States</td>\n",
       "      <td>United-States</td>\n",
       "      <td>Native- Born in the United States</td>\n",
       "      <td>0</td>\n",
       "      <td>Not in universe</td>\n",
       "      <td>2</td>\n",
       "      <td>0</td>\n",
       "      <td>95</td>\n",
       "      <td>- 50000.</td>\n",
       "    </tr>\n",
       "    <tr>\n",
       "      <th>199522</th>\n",
       "      <td>32</td>\n",
       "      <td>Private</td>\n",
       "      <td>42</td>\n",
       "      <td>30</td>\n",
       "      <td>High school graduate</td>\n",
       "      <td>0</td>\n",
       "      <td>Not in universe</td>\n",
       "      <td>Never married</td>\n",
       "      <td>Medical except hospital</td>\n",
       "      <td>Other service</td>\n",
       "      <td>...</td>\n",
       "      <td>?</td>\n",
       "      <td>?</td>\n",
       "      <td>?</td>\n",
       "      <td>Foreign born- Not a citizen of U S</td>\n",
       "      <td>0</td>\n",
       "      <td>Not in universe</td>\n",
       "      <td>2</td>\n",
       "      <td>52</td>\n",
       "      <td>94</td>\n",
       "      <td>- 50000.</td>\n",
       "    </tr>\n",
       "  </tbody>\n",
       "</table>\n",
       "<p>199523 rows × 41 columns</p>\n",
       "</div>"
      ],
      "text/plain": [
       "        age                       work_class  industry_recode  \\\n",
       "0        73                  Not in universe                0   \n",
       "1        58   Self-employed-not incorporated                4   \n",
       "2        18                  Not in universe                0   \n",
       "3         9                  Not in universe                0   \n",
       "4        10                  Not in universe                0   \n",
       "5        48                          Private               40   \n",
       "6        42                          Private               34   \n",
       "7        28                          Private                4   \n",
       "8        47                 Local government               43   \n",
       "9        34                          Private                4   \n",
       "10        8                  Not in universe                0   \n",
       "11       32                  Not in universe                0   \n",
       "12       51                          Private                4   \n",
       "13       46                          Private               37   \n",
       "14       26                          Private               24   \n",
       "15       13                  Not in universe                0   \n",
       "16       47                          Private               39   \n",
       "17       39                  Not in universe                0   \n",
       "18       16                  Not in universe                0   \n",
       "19       35                          Private               12   \n",
       "20       12                  Not in universe                0   \n",
       "21       27   Self-employed-not incorporated                4   \n",
       "22       56                          Private               35   \n",
       "23       46                          Private               45   \n",
       "24       55                  Not in universe                0   \n",
       "25        2                  Not in universe                0   \n",
       "26        1                  Not in universe                0   \n",
       "27       37                          Private                3   \n",
       "28        4                  Not in universe                0   \n",
       "29       37                          Private                4   \n",
       "...     ...                              ...              ...   \n",
       "199493   13                  Not in universe                0   \n",
       "199494    5                  Not in universe                0   \n",
       "199495   44   Self-employed-not incorporated               38   \n",
       "199496    1                  Not in universe                0   \n",
       "199497   40   Self-employed-not incorporated               35   \n",
       "199498   50                          Private               42   \n",
       "199499   59                          Private               24   \n",
       "199500   74                 State government               44   \n",
       "199501   13                  Not in universe                0   \n",
       "199502   50               Federal government               29   \n",
       "199503   24                          Private               33   \n",
       "199504   43                          Private               22   \n",
       "199505   33                          Private               34   \n",
       "199506   14                  Not in universe                0   \n",
       "199507   25       Self-employed-incorporated               33   \n",
       "199508   62                          Private                4   \n",
       "199509   47                 Local government               43   \n",
       "199510   25                          Private               33   \n",
       "199511   47                          Private               23   \n",
       "199512   71                  Not in universe                0   \n",
       "199513   57                          Private                9   \n",
       "199514   51                          Private               33   \n",
       "199515   87                  Not in universe                0   \n",
       "199516    3                  Not in universe                0   \n",
       "199517   39                          Private               43   \n",
       "199518   87                  Not in universe                0   \n",
       "199519   65       Self-employed-incorporated               37   \n",
       "199520   47                  Not in universe                0   \n",
       "199521   16                  Not in universe                0   \n",
       "199522   32                          Private               42   \n",
       "\n",
       "        occupation_recode                                education  \\\n",
       "0                       0                     High school graduate   \n",
       "1                      34               Some college but no degree   \n",
       "2                       0                               10th grade   \n",
       "3                       0                                 Children   \n",
       "4                       0                                 Children   \n",
       "5                      10               Some college but no degree   \n",
       "6                       3               Bachelors degree(BA AB BS)   \n",
       "7                      40                     High school graduate   \n",
       "8                      26               Some college but no degree   \n",
       "9                      37               Some college but no degree   \n",
       "10                      0                                 Children   \n",
       "11                      0                     High school graduate   \n",
       "12                     34               Some college but no degree   \n",
       "13                     31                     High school graduate   \n",
       "14                     12               Bachelors degree(BA AB BS)   \n",
       "15                      0                                 Children   \n",
       "16                     36               Bachelors degree(BA AB BS)   \n",
       "17                      0                               10th grade   \n",
       "18                      0                               10th grade   \n",
       "19                     41                     High school graduate   \n",
       "20                      0                                 Children   \n",
       "21                     34               Some college but no degree   \n",
       "22                     22               Some college but no degree   \n",
       "23                     12   Masters degree(MA MS MEng MEd MSW MBA)   \n",
       "24                      0               Some college but no degree   \n",
       "25                      0                                 Children   \n",
       "26                      0                                 Children   \n",
       "27                     34               Some college but no degree   \n",
       "28                      0                                 Children   \n",
       "29                      2               Bachelors degree(BA AB BS)   \n",
       "...                   ...                                      ...   \n",
       "199493                  0                                 Children   \n",
       "199494                  0                                 Children   \n",
       "199495                  2               Some college but no degree   \n",
       "199496                  0                                 Children   \n",
       "199497                 17               Bachelors degree(BA AB BS)   \n",
       "199498                 26                     High school graduate   \n",
       "199499                  2               Bachelors degree(BA AB BS)   \n",
       "199500                 42                        7th and 8th grade   \n",
       "199501                  0                                 Children   \n",
       "199502                  2               Some college but no degree   \n",
       "199503                 29                               11th grade   \n",
       "199504                 36                     High school graduate   \n",
       "199505                  3                     High school graduate   \n",
       "199506                  0                                 Children   \n",
       "199507                 16               Some college but no degree   \n",
       "199508                  2               Some college but no degree   \n",
       "199509                 12                Doctorate degree(PhD EdD)   \n",
       "199510                 41               Some college but no degree   \n",
       "199511                 37               Some college but no degree   \n",
       "199512                  0                     High school graduate   \n",
       "199513                 37                                9th grade   \n",
       "199514                 19                               10th grade   \n",
       "199515                  0                     High school graduate   \n",
       "199516                  0                                 Children   \n",
       "199517                 26               Bachelors degree(BA AB BS)   \n",
       "199518                  0                        7th and 8th grade   \n",
       "199519                  2                               11th grade   \n",
       "199520                  0               Some college but no degree   \n",
       "199521                  0                               10th grade   \n",
       "199522                 30                     High school graduate   \n",
       "\n",
       "        wage_per_hour currently_in_school                    marital_status  \\\n",
       "0                   0     Not in universe                           Widowed   \n",
       "1                   0     Not in universe                          Divorced   \n",
       "2                   0         High school                     Never married   \n",
       "3                   0     Not in universe                     Never married   \n",
       "4                   0     Not in universe                     Never married   \n",
       "5                1200     Not in universe   Married-civilian spouse present   \n",
       "6                   0     Not in universe   Married-civilian spouse present   \n",
       "7                   0     Not in universe                     Never married   \n",
       "8                 876     Not in universe   Married-civilian spouse present   \n",
       "9                   0     Not in universe   Married-civilian spouse present   \n",
       "10                  0     Not in universe                     Never married   \n",
       "11                  0     Not in universe                     Never married   \n",
       "12                  0     Not in universe   Married-civilian spouse present   \n",
       "13                  0     Not in universe                          Divorced   \n",
       "14                  0     Not in universe                     Never married   \n",
       "15                  0     Not in universe                     Never married   \n",
       "16                  0     Not in universe                     Never married   \n",
       "17                  0     Not in universe   Married-civilian spouse present   \n",
       "18                  0         High school                     Never married   \n",
       "19                  0     Not in universe   Married-civilian spouse present   \n",
       "20                  0     Not in universe                     Never married   \n",
       "21                  0     Not in universe   Married-civilian spouse present   \n",
       "22                500     Not in universe   Married-civilian spouse present   \n",
       "23                  0     Not in universe   Married-civilian spouse present   \n",
       "24                  0     Not in universe   Married-civilian spouse present   \n",
       "25                  0     Not in universe                     Never married   \n",
       "26                  0     Not in universe                     Never married   \n",
       "27                  0     Not in universe   Married-civilian spouse present   \n",
       "28                  0     Not in universe                     Never married   \n",
       "29                  0     Not in universe                     Never married   \n",
       "...               ...                 ...                               ...   \n",
       "199493              0     Not in universe                     Never married   \n",
       "199494              0     Not in universe                     Never married   \n",
       "199495              0     Not in universe   Married-civilian spouse present   \n",
       "199496              0     Not in universe                     Never married   \n",
       "199497              0     Not in universe   Married-civilian spouse present   \n",
       "199498              0     Not in universe   Married-civilian spouse present   \n",
       "199499              0     Not in universe   Married-civilian spouse present   \n",
       "199500              0     Not in universe                           Widowed   \n",
       "199501              0     Not in universe                     Never married   \n",
       "199502              0     Not in universe   Married-civilian spouse present   \n",
       "199503              0     Not in universe                     Never married   \n",
       "199504              0     Not in universe   Married-civilian spouse present   \n",
       "199505              0     Not in universe   Married-civilian spouse present   \n",
       "199506              0     Not in universe                     Never married   \n",
       "199507              0     Not in universe                     Never married   \n",
       "199508              0     Not in universe             Married-spouse absent   \n",
       "199509              0     Not in universe   Married-civilian spouse present   \n",
       "199510              0     Not in universe                     Never married   \n",
       "199511              0     Not in universe   Married-civilian spouse present   \n",
       "199512              0     Not in universe   Married-civilian spouse present   \n",
       "199513              0     Not in universe                          Divorced   \n",
       "199514              0     Not in universe                           Widowed   \n",
       "199515              0     Not in universe                           Widowed   \n",
       "199516              0     Not in universe                     Never married   \n",
       "199517              0     Not in universe                     Never married   \n",
       "199518              0     Not in universe   Married-civilian spouse present   \n",
       "199519              0     Not in universe   Married-civilian spouse present   \n",
       "199520              0     Not in universe   Married-civilian spouse present   \n",
       "199521              0         High school                     Never married   \n",
       "199522              0     Not in universe                     Never married   \n",
       "\n",
       "                               industry_code  \\\n",
       "0                Not in universe or children   \n",
       "1                               Construction   \n",
       "2                Not in universe or children   \n",
       "3                Not in universe or children   \n",
       "4                Not in universe or children   \n",
       "5                              Entertainment   \n",
       "6          Finance insurance and real estate   \n",
       "7                               Construction   \n",
       "8                                  Education   \n",
       "9                               Construction   \n",
       "10               Not in universe or children   \n",
       "11               Not in universe or children   \n",
       "12                              Construction   \n",
       "13              Business and repair services   \n",
       "14            Manufacturing-nondurable goods   \n",
       "15               Not in universe or children   \n",
       "16       Personal services except private HH   \n",
       "17               Not in universe or children   \n",
       "18               Not in universe or children   \n",
       "19               Manufacturing-durable goods   \n",
       "20               Not in universe or children   \n",
       "21                              Construction   \n",
       "22         Finance insurance and real estate   \n",
       "23               Other professional services   \n",
       "24               Not in universe or children   \n",
       "25               Not in universe or children   \n",
       "26               Not in universe or children   \n",
       "27                                    Mining   \n",
       "28               Not in universe or children   \n",
       "29                              Construction   \n",
       "...                                      ...   \n",
       "199493           Not in universe or children   \n",
       "199494           Not in universe or children   \n",
       "199495          Business and repair services   \n",
       "199496           Not in universe or children   \n",
       "199497     Finance insurance and real estate   \n",
       "199498               Medical except hospital   \n",
       "199499        Manufacturing-nondurable goods   \n",
       "199500                       Social services   \n",
       "199501           Not in universe or children   \n",
       "199502                        Transportation   \n",
       "199503                          Retail trade   \n",
       "199504        Manufacturing-nondurable goods   \n",
       "199505     Finance insurance and real estate   \n",
       "199506           Not in universe or children   \n",
       "199507                          Retail trade   \n",
       "199508                          Construction   \n",
       "199509                             Education   \n",
       "199510                          Retail trade   \n",
       "199511        Manufacturing-nondurable goods   \n",
       "199512           Not in universe or children   \n",
       "199513           Manufacturing-durable goods   \n",
       "199514                          Retail trade   \n",
       "199515           Not in universe or children   \n",
       "199516           Not in universe or children   \n",
       "199517                             Education   \n",
       "199518           Not in universe or children   \n",
       "199519          Business and repair services   \n",
       "199520           Not in universe or children   \n",
       "199521           Not in universe or children   \n",
       "199522               Medical except hospital   \n",
       "\n",
       "                               occupation_code    ...      \\\n",
       "0                              Not in universe    ...       \n",
       "1          Precision production craft & repair    ...       \n",
       "2                              Not in universe    ...       \n",
       "3                              Not in universe    ...       \n",
       "4                              Not in universe    ...       \n",
       "5                       Professional specialty    ...       \n",
       "6               Executive admin and managerial    ...       \n",
       "7                 Handlers equip cleaners etc     ...       \n",
       "8               Adm support including clerical    ...       \n",
       "9        Machine operators assmblrs & inspctrs    ...       \n",
       "10                             Not in universe    ...       \n",
       "11                             Not in universe    ...       \n",
       "12         Precision production craft & repair    ...       \n",
       "13                               Other service    ...       \n",
       "14                      Professional specialty    ...       \n",
       "15                             Not in universe    ...       \n",
       "16       Machine operators assmblrs & inspctrs    ...       \n",
       "17                             Not in universe    ...       \n",
       "18                             Not in universe    ...       \n",
       "19                Handlers equip cleaners etc     ...       \n",
       "20                             Not in universe    ...       \n",
       "21         Precision production craft & repair    ...       \n",
       "22              Adm support including clerical    ...       \n",
       "23                      Professional specialty    ...       \n",
       "24                             Not in universe    ...       \n",
       "25                             Not in universe    ...       \n",
       "26                             Not in universe    ...       \n",
       "27         Precision production craft & repair    ...       \n",
       "28                             Not in universe    ...       \n",
       "29              Executive admin and managerial    ...       \n",
       "...                                        ...    ...       \n",
       "199493                         Not in universe    ...       \n",
       "199494                         Not in universe    ...       \n",
       "199495          Executive admin and managerial    ...       \n",
       "199496                         Not in universe    ...       \n",
       "199497                                   Sales    ...       \n",
       "199498          Adm support including clerical    ...       \n",
       "199499          Executive admin and managerial    ...       \n",
       "199500            Handlers equip cleaners etc     ...       \n",
       "199501                         Not in universe    ...       \n",
       "199502          Executive admin and managerial    ...       \n",
       "199503                           Other service    ...       \n",
       "199504   Machine operators assmblrs & inspctrs    ...       \n",
       "199505          Executive admin and managerial    ...       \n",
       "199506                         Not in universe    ...       \n",
       "199507                                   Sales    ...       \n",
       "199508          Executive admin and managerial    ...       \n",
       "199509                  Professional specialty    ...       \n",
       "199510            Handlers equip cleaners etc     ...       \n",
       "199511   Machine operators assmblrs & inspctrs    ...       \n",
       "199512                         Not in universe    ...       \n",
       "199513   Machine operators assmblrs & inspctrs    ...       \n",
       "199514                                   Sales    ...       \n",
       "199515                         Not in universe    ...       \n",
       "199516                         Not in universe    ...       \n",
       "199517          Adm support including clerical    ...       \n",
       "199518                         Not in universe    ...       \n",
       "199519          Executive admin and managerial    ...       \n",
       "199520                         Not in universe    ...       \n",
       "199521                         Not in universe    ...       \n",
       "199522                           Other service    ...       \n",
       "\n",
       "       country_of_birth_father country_of_birth_mother country_of_birth_self  \\\n",
       "0                United-States           United-States         United-States   \n",
       "1                United-States           United-States         United-States   \n",
       "2                      Vietnam                 Vietnam               Vietnam   \n",
       "3                United-States           United-States         United-States   \n",
       "4                United-States           United-States         United-States   \n",
       "5                  Philippines           United-States         United-States   \n",
       "6                United-States           United-States         United-States   \n",
       "7                United-States           United-States         United-States   \n",
       "8                United-States           United-States         United-States   \n",
       "9                United-States           United-States         United-States   \n",
       "10               United-States           United-States         United-States   \n",
       "11                           ?                       ?                     ?   \n",
       "12               United-States           United-States         United-States   \n",
       "13                    Columbia                Columbia              Columbia   \n",
       "14               United-States           United-States         United-States   \n",
       "15               United-States           United-States         United-States   \n",
       "16                     Germany           United-States         United-States   \n",
       "17                      Mexico                  Mexico                Mexico   \n",
       "18               United-States             El-Salvador         United-States   \n",
       "19               United-States           United-States         United-States   \n",
       "20               United-States           United-States         United-States   \n",
       "21               United-States           United-States         United-States   \n",
       "22               United-States           United-States         United-States   \n",
       "23               United-States           United-States         United-States   \n",
       "24                       Japan           United-States         United-States   \n",
       "25               United-States           United-States         United-States   \n",
       "26                           ?                       ?         United-States   \n",
       "27               United-States           United-States         United-States   \n",
       "28               United-States           United-States         United-States   \n",
       "29               United-States           United-States         United-States   \n",
       "...                        ...                     ...                   ...   \n",
       "199493           United-States           United-States         United-States   \n",
       "199494           United-States           United-States         United-States   \n",
       "199495           United-States           United-States         United-States   \n",
       "199496           United-States           United-States         United-States   \n",
       "199497           United-States           United-States         United-States   \n",
       "199498           United-States           United-States         United-States   \n",
       "199499           United-States           United-States         United-States   \n",
       "199500                       ?           United-States         United-States   \n",
       "199501           United-States           United-States         United-States   \n",
       "199502           United-States           United-States         United-States   \n",
       "199503           United-States           United-States         United-States   \n",
       "199504                  Mexico                  Mexico                Mexico   \n",
       "199505           United-States           United-States         United-States   \n",
       "199506           United-States           United-States         United-States   \n",
       "199507                       ?                       ?                     ?   \n",
       "199508                  Greece           United-States         United-States   \n",
       "199509           United-States           United-States         United-States   \n",
       "199510           United-States                 Germany         United-States   \n",
       "199511           United-States           United-States         United-States   \n",
       "199512           United-States           United-States         United-States   \n",
       "199513      Dominican-Republic      Dominican-Republic    Dominican-Republic   \n",
       "199514           United-States           United-States         United-States   \n",
       "199515                       ?           United-States         United-States   \n",
       "199516           United-States           United-States         United-States   \n",
       "199517                  Mexico                  Mexico                Mexico   \n",
       "199518                  Canada           United-States         United-States   \n",
       "199519           United-States           United-States         United-States   \n",
       "199520                  Poland                  Poland               Germany   \n",
       "199521           United-States           United-States         United-States   \n",
       "199522                       ?                       ?                     ?   \n",
       "\n",
       "                                         citizenship  \\\n",
       "0                  Native- Born in the United States   \n",
       "1                  Native- Born in the United States   \n",
       "2                Foreign born- Not a citizen of U S    \n",
       "3                  Native- Born in the United States   \n",
       "4                  Native- Born in the United States   \n",
       "5                  Native- Born in the United States   \n",
       "6                  Native- Born in the United States   \n",
       "7                  Native- Born in the United States   \n",
       "8                  Native- Born in the United States   \n",
       "9                  Native- Born in the United States   \n",
       "10                 Native- Born in the United States   \n",
       "11               Foreign born- Not a citizen of U S    \n",
       "12                 Native- Born in the United States   \n",
       "13               Foreign born- Not a citizen of U S    \n",
       "14                 Native- Born in the United States   \n",
       "15                 Native- Born in the United States   \n",
       "16                 Native- Born in the United States   \n",
       "17               Foreign born- Not a citizen of U S    \n",
       "18                 Native- Born in the United States   \n",
       "19                 Native- Born in the United States   \n",
       "20                 Native- Born in the United States   \n",
       "21                 Native- Born in the United States   \n",
       "22                 Native- Born in the United States   \n",
       "23                 Native- Born in the United States   \n",
       "24                 Native- Born in the United States   \n",
       "25                 Native- Born in the United States   \n",
       "26                 Native- Born in the United States   \n",
       "27                 Native- Born in the United States   \n",
       "28                 Native- Born in the United States   \n",
       "29                 Native- Born in the United States   \n",
       "...                                              ...   \n",
       "199493             Native- Born in the United States   \n",
       "199494             Native- Born in the United States   \n",
       "199495             Native- Born in the United States   \n",
       "199496             Native- Born in the United States   \n",
       "199497             Native- Born in the United States   \n",
       "199498             Native- Born in the United States   \n",
       "199499             Native- Born in the United States   \n",
       "199500             Native- Born in the United States   \n",
       "199501             Native- Born in the United States   \n",
       "199502             Native- Born in the United States   \n",
       "199503             Native- Born in the United States   \n",
       "199504           Foreign born- Not a citizen of U S    \n",
       "199505             Native- Born in the United States   \n",
       "199506             Native- Born in the United States   \n",
       "199507   Foreign born- U S citizen by naturalization   \n",
       "199508             Native- Born in the United States   \n",
       "199509             Native- Born in the United States   \n",
       "199510             Native- Born in the United States   \n",
       "199511             Native- Born in the United States   \n",
       "199512             Native- Born in the United States   \n",
       "199513           Foreign born- Not a citizen of U S    \n",
       "199514             Native- Born in the United States   \n",
       "199515             Native- Born in the United States   \n",
       "199516             Native- Born in the United States   \n",
       "199517           Foreign born- Not a citizen of U S    \n",
       "199518             Native- Born in the United States   \n",
       "199519             Native- Born in the United States   \n",
       "199520   Foreign born- U S citizen by naturalization   \n",
       "199521             Native- Born in the United States   \n",
       "199522           Foreign born- Not a citizen of U S    \n",
       "\n",
       "       own_business_or_self_employed fill_inc_questionnaire_veterns_admin  \\\n",
       "0                                  0                      Not in universe   \n",
       "1                                  0                      Not in universe   \n",
       "2                                  0                      Not in universe   \n",
       "3                                  0                      Not in universe   \n",
       "4                                  0                      Not in universe   \n",
       "5                                  2                      Not in universe   \n",
       "6                                  0                      Not in universe   \n",
       "7                                  0                      Not in universe   \n",
       "8                                  0                      Not in universe   \n",
       "9                                  0                      Not in universe   \n",
       "10                                 0                      Not in universe   \n",
       "11                                 0                      Not in universe   \n",
       "12                                 0                      Not in universe   \n",
       "13                                 0                      Not in universe   \n",
       "14                                 0                      Not in universe   \n",
       "15                                 0                      Not in universe   \n",
       "16                                 0                      Not in universe   \n",
       "17                                 0                      Not in universe   \n",
       "18                                 0                      Not in universe   \n",
       "19                                 0                      Not in universe   \n",
       "20                                 0                      Not in universe   \n",
       "21                                 1                      Not in universe   \n",
       "22                                 2                      Not in universe   \n",
       "23                                 0                      Not in universe   \n",
       "24                                 0                      Not in universe   \n",
       "25                                 0                      Not in universe   \n",
       "26                                 0                      Not in universe   \n",
       "27                                 0                      Not in universe   \n",
       "28                                 0                      Not in universe   \n",
       "29                                 0                      Not in universe   \n",
       "...                              ...                                  ...   \n",
       "199493                             0                      Not in universe   \n",
       "199494                             0                      Not in universe   \n",
       "199495                             0                      Not in universe   \n",
       "199496                             0                      Not in universe   \n",
       "199497                             0                      Not in universe   \n",
       "199498                             0                      Not in universe   \n",
       "199499                             0                      Not in universe   \n",
       "199500                             0                      Not in universe   \n",
       "199501                             0                      Not in universe   \n",
       "199502                             2                      Not in universe   \n",
       "199503                             2                      Not in universe   \n",
       "199504                             0                      Not in universe   \n",
       "199505                             0                      Not in universe   \n",
       "199506                             0                      Not in universe   \n",
       "199507                             0                      Not in universe   \n",
       "199508                             2                                  Yes   \n",
       "199509                             2                      Not in universe   \n",
       "199510                             0                      Not in universe   \n",
       "199511                             0                      Not in universe   \n",
       "199512                             0                      Not in universe   \n",
       "199513                             0                      Not in universe   \n",
       "199514                             0                      Not in universe   \n",
       "199515                             0                      Not in universe   \n",
       "199516                             0                      Not in universe   \n",
       "199517                             2                      Not in universe   \n",
       "199518                             0                      Not in universe   \n",
       "199519                             0                      Not in universe   \n",
       "199520                             0                      Not in universe   \n",
       "199521                             0                      Not in universe   \n",
       "199522                             0                      Not in universe   \n",
       "\n",
       "        veterans_benefits  weeks_worked_in_year  year     income  \n",
       "0                       2                     0    95   - 50000.  \n",
       "1                       2                    52    94   - 50000.  \n",
       "2                       2                     0    95   - 50000.  \n",
       "3                       0                     0    94   - 50000.  \n",
       "4                       0                     0    94   - 50000.  \n",
       "5                       2                    52    95   - 50000.  \n",
       "6                       2                    52    94   - 50000.  \n",
       "7                       2                    30    95   - 50000.  \n",
       "8                       2                    52    95   - 50000.  \n",
       "9                       2                    52    94   - 50000.  \n",
       "10                      0                     0    94   - 50000.  \n",
       "11                      2                     0    95   - 50000.  \n",
       "12                      2                    52    94   - 50000.  \n",
       "13                      2                    52    94   - 50000.  \n",
       "14                      2                    52    95   - 50000.  \n",
       "15                      0                     0    94   - 50000.  \n",
       "16                      2                    52    95   - 50000.  \n",
       "17                      2                     0    94   - 50000.  \n",
       "18                      2                     0    95   - 50000.  \n",
       "19                      2                    49    95   - 50000.  \n",
       "20                      0                     0    94   - 50000.  \n",
       "21                      2                    52    94   - 50000.  \n",
       "22                      2                    32    95   - 50000.  \n",
       "23                      2                    52    94   - 50000.  \n",
       "24                      2                     0    94   - 50000.  \n",
       "25                      0                     0    94   - 50000.  \n",
       "26                      0                     0    94   - 50000.  \n",
       "27                      2                    52    95   - 50000.  \n",
       "28                      0                     0    95   - 50000.  \n",
       "29                      2                    52    94   - 50000.  \n",
       "...                   ...                   ...   ...        ...  \n",
       "199493                  0                     0    94   - 50000.  \n",
       "199494                  0                     0    94   - 50000.  \n",
       "199495                  2                    50    94   - 50000.  \n",
       "199496                  0                     0    94   - 50000.  \n",
       "199497                  2                    50    95   - 50000.  \n",
       "199498                  2                    52    94   - 50000.  \n",
       "199499                  2                    52    95    50000+.  \n",
       "199500                  2                    52    94   - 50000.  \n",
       "199501                  0                     0    94   - 50000.  \n",
       "199502                  2                    48    95   - 50000.  \n",
       "199503                  2                    52    95   - 50000.  \n",
       "199504                  2                    52    95   - 50000.  \n",
       "199505                  2                    52    95   - 50000.  \n",
       "199506                  0                     0    94   - 50000.  \n",
       "199507                  2                    52    94   - 50000.  \n",
       "199508                  1                    52    95    50000+.  \n",
       "199509                  2                    52    94    50000+.  \n",
       "199510                  2                    52    94   - 50000.  \n",
       "199511                  2                    52    95   - 50000.  \n",
       "199512                  2                     0    95   - 50000.  \n",
       "199513                  2                    52    95   - 50000.  \n",
       "199514                  2                    52    94   - 50000.  \n",
       "199515                  2                     0    95   - 50000.  \n",
       "199516                  0                     0    94   - 50000.  \n",
       "199517                  2                    52    95   - 50000.  \n",
       "199518                  2                     0    95   - 50000.  \n",
       "199519                  2                    52    94   - 50000.  \n",
       "199520                  2                    52    95   - 50000.  \n",
       "199521                  2                     0    95   - 50000.  \n",
       "199522                  2                    52    94   - 50000.  \n",
       "\n",
       "[199523 rows x 41 columns]"
      ]
     },
     "execution_count": 19,
     "metadata": {},
     "output_type": "execute_result"
    }
   ],
   "source": [
    "train_data"
   ]
  },
  {
   "cell_type": "code",
   "execution_count": 289,
   "metadata": {
    "collapsed": true
   },
   "outputs": [],
   "source": [
    "#Make Labels Binary\n",
    "Y_train = [] #labels for the training data\n",
    "Y_test = [] #labels for the testing data\n",
    "\n",
    "for i in range(0,len(train_data.ix[:,40])):\n",
    "    if train_data.ix[i,40] == ' - 50000.':\n",
    "        a = 0\n",
    "    elif train_data.ix[i,40] ==  ' 50000+.':\n",
    "        a = 1\n",
    "    Y_train.extend([a])\n",
    "    \n",
    "for i in range(0,len(test_data.ix[:,40])):\n",
    "    if test_data.ix[i,40] == ' - 50000.':\n",
    "        a = 0\n",
    "    elif test_data.ix[i,40] ==  ' 50000+.':\n",
    "        a = 1\n",
    "    Y_test.extend([a])\n",
    "\n",
    "#if less than 50,000 = 0, more than 50,000 = 1"
   ]
  },
  {
   "cell_type": "code",
   "execution_count": 5,
   "metadata": {
    "collapsed": false
   },
   "outputs": [
    {
     "data": {
      "text/plain": [
       "(34.494198663813194, 90, 0)"
      ]
     },
     "execution_count": 5,
     "metadata": {},
     "output_type": "execute_result"
    }
   ],
   "source": [
    "#Investigate Data\n",
    "age = train_data.ix[:,0]\n",
    "mean(age), max(age), min(age)"
   ]
  },
  {
   "cell_type": "code",
   "execution_count": 8,
   "metadata": {
    "collapsed": true
   },
   "outputs": [],
   "source": [
    "import matplotlib.pyplot as plt"
   ]
  },
  {
   "cell_type": "code",
   "execution_count": 11,
   "metadata": {
    "collapsed": false,
    "scrolled": true
   },
   "outputs": [
    {
     "data": {
      "image/png": "[encoded data removed]",
      "text/plain": [
       "<matplotlib.figure.Figure at 0x112f7dc50>"
      ]
     },
     "metadata": {},
     "output_type": "display_data"
    }
   ],
   "source": [
    "plt.hist([train_data['age']], bins=[0, 10, 20, 30, 40, 50, 60, 70, 80, 90])\n",
    "plt.show()"
   ]
  },
  {
   "cell_type": "code",
   "execution_count": 13,
   "metadata": {
    "collapsed": false
   },
   "outputs": [
    {
     "data": {
      "image/png": "[encoded data removed]",
      "text/plain": [
       "<matplotlib.figure.Figure at 0x11319c3c8>"
      ]
     },
     "metadata": {},
     "output_type": "display_data"
    }
   ],
   "source": [
    "#Industry Code \n",
    "pd.Series(train_data['industry_recode'], dtype='category').value_counts().plot(kind='bar')\n",
    "plt.tick_params(\n",
    "    axis='x',          # changes apply to the x-axis\n",
    "    which='both',      # both major and minor ticks are affected\n",
    "    bottom='off',      # ticks along the bottom edge are off\n",
    "    top='off',         # ticks along the top edge are off\n",
    "    labelbottom='off') \n",
    "plt.show()"
   ]
  },
  {
   "cell_type": "code",
   "execution_count": 20,
   "metadata": {
    "collapsed": false
   },
   "outputs": [
    {
     "data": {
      "image/png": "[encoded data removed]",
      "text/plain": [
       "<matplotlib.figure.Figure at 0x116449da0>"
      ]
     },
     "metadata": {},
     "output_type": "display_data"
    }
   ],
   "source": [
    "#Occupation Recode \n",
    "pd.Series(train_data['occupation_recode'], dtype='category').value_counts().plot(kind='bar')\n",
    "plt.tick_params(\n",
    "    axis='x',          # changes apply to the x-axis\n",
    "    which='both',      # both major and minor ticks are affected\n",
    "    bottom='off',      # ticks along the bottom edge are off\n",
    "    top='off',         # ticks along the top edge are off\n",
    "    labelbottom='off') \n",
    "plt.show()"
   ]
  },
  {
   "cell_type": "code",
   "execution_count": 40,
   "metadata": {
    "collapsed": false
   },
   "outputs": [
    {
     "data": {
      "image/png": "[encoded data removed]",
      "text/plain": [
       "<matplotlib.figure.Figure at 0x113849e48>"
      ]
     },
     "metadata": {},
     "output_type": "display_data"
    }
   ],
   "source": [
    "# Education \n",
    "plt.show(pd.Series(train_data['education'], dtype='category').value_counts().plot(kind='bar'))"
   ]
  },
  {
   "cell_type": "code",
   "execution_count": 39,
   "metadata": {
    "collapsed": false
   },
   "outputs": [
    {
     "data": {
      "text/plain": [
       "(55.426908175999756, 0, 9999, 274.89576501850644)"
      ]
     },
     "execution_count": 39,
     "metadata": {},
     "output_type": "execute_result"
    }
   ],
   "source": [
    "# Wage\n",
    "wage = train_data['wage_per_hour']\n",
    "mean(wage), min(wage), max(wage), np.std(wage)"
   ]
  },
  {
   "cell_type": "code",
   "execution_count": 38,
   "metadata": {
    "collapsed": false
   },
   "outputs": [
    {
     "data": {
      "image/png": "[encoded data removed]",
      "text/plain": [
       "<matplotlib.figure.Figure at 0x11326ed30>"
      ]
     },
     "metadata": {},
     "output_type": "display_data"
    }
   ],
   "source": [
    "# Currently in School\n",
    "plt.show(pd.Series(train_data['currently_in_school'], dtype='category').value_counts().plot(kind='bar'))"
   ]
  },
  {
   "cell_type": "code",
   "execution_count": 37,
   "metadata": {
    "collapsed": false
   },
   "outputs": [
    {
     "data": {
      "image/png": "[encoded data removed]",
      "text/plain": [
       "<matplotlib.figure.Figure at 0x11397af28>"
      ]
     },
     "metadata": {},
     "output_type": "display_data"
    }
   ],
   "source": [
    "#Marital Status\n",
    "plt.show(pd.Series(train_data['marital_status'], dtype='category').value_counts().plot(kind='bar'))"
   ]
  },
  {
   "cell_type": "code",
   "execution_count": 41,
   "metadata": {
    "collapsed": false
   },
   "outputs": [
    {
     "data": {
      "image/png": "[encoded data removed]",
      "text/plain": [
       "<matplotlib.figure.Figure at 0x11384ebe0>"
      ]
     },
     "metadata": {},
     "output_type": "display_data"
    }
   ],
   "source": [
    "#Race\n",
    "plt.show(pd.Series(train_data['race'], dtype='category').value_counts().plot(kind='bar'))"
   ]
  },
  {
   "cell_type": "code",
   "execution_count": 42,
   "metadata": {
    "collapsed": false
   },
   "outputs": [
    {
     "data": {
      "image/png": "[encoded data removed]",
      "text/plain": [
       "<matplotlib.figure.Figure at 0x113207128>"
      ]
     },
     "metadata": {},
     "output_type": "display_data"
    }
   ],
   "source": [
    "#Hispanic\n",
    "plt.show(pd.Series(train_data['hispanic_origin'], dtype='category').value_counts().plot(kind='bar'))"
   ]
  },
  {
   "cell_type": "code",
   "execution_count": 43,
   "metadata": {
    "collapsed": false
   },
   "outputs": [
    {
     "data": {
      "image/png": "[encoded data removed]",
      "text/plain": [
       "<matplotlib.figure.Figure at 0x1160b95f8>"
      ]
     },
     "metadata": {},
     "output_type": "display_data"
    }
   ],
   "source": [
    "#Sex\n",
    "plt.show(pd.Series(train_data['sex'], dtype='category').value_counts().plot(kind='bar'))"
   ]
  },
  {
   "cell_type": "code",
   "execution_count": 44,
   "metadata": {
    "collapsed": false
   },
   "outputs": [
    {
     "data": {
      "image/png": "[encoded data removed]",
      "text/plain": [
       "<matplotlib.figure.Figure at 0x1138bfef0>"
      ]
     },
     "metadata": {},
     "output_type": "display_data"
    }
   ],
   "source": [
    "#Full time or part time status\n",
    "plt.show(pd.Series(train_data['full_or_parttime_status'], dtype='category').value_counts().plot(kind='bar'))"
   ]
  },
  {
   "cell_type": "code",
   "execution_count": 45,
   "metadata": {
    "collapsed": false
   },
   "outputs": [
    {
     "data": {
      "image/png": "[encoded data removed]",
      "text/plain": [
       "<matplotlib.figure.Figure at 0x113f7c5f8>"
      ]
     },
     "metadata": {},
     "output_type": "display_data"
    }
   ],
   "source": [
    "#Household Summary\n",
    "plt.show(pd.Series(train_data['house_summary_in_household'], dtype='category').value_counts().plot(kind='bar'))"
   ]
  },
  {
   "cell_type": "code",
   "execution_count": 46,
   "metadata": {
    "collapsed": false
   },
   "outputs": [
    {
     "data": {
      "image/png": "[encoded data removed]",
      "text/plain": [
       "<matplotlib.figure.Figure at 0x11739b128>"
      ]
     },
     "metadata": {},
     "output_type": "display_data"
    }
   ],
   "source": [
    "#Citizenship\n",
    "plt.show(pd.Series(train_data['citizenship'], dtype='category').value_counts().plot(kind='bar'))"
   ]
  },
  {
   "cell_type": "code",
   "execution_count": 47,
   "metadata": {
    "collapsed": false
   },
   "outputs": [
    {
     "data": {
      "image/png": "[encoded data removed]",
      "text/plain": [
       "<matplotlib.figure.Figure at 0x11827cbe0>"
      ]
     },
     "metadata": {},
     "output_type": "display_data"
    }
   ],
   "source": [
    "#Veteran Status\n",
    "plt.show(pd.Series(train_data['veterans_benefits'], dtype='category').value_counts().plot(kind='bar'))"
   ]
  },
  {
   "cell_type": "code",
   "execution_count": 48,
   "metadata": {
    "collapsed": false
   },
   "outputs": [
    {
     "data": {
      "text/plain": [
       "(23.174897129654227, 0, 52, 24.411426992815063)"
      ]
     },
     "execution_count": 48,
     "metadata": {},
     "output_type": "execute_result"
    }
   ],
   "source": [
    "#Weeks worked in the year\n",
    "weeks = train_data['weeks_worked_in_year']\n",
    "mean(weeks), min(weeks), max(weeks), np.std(weeks)"
   ]
  },
  {
   "cell_type": "code",
   "execution_count": 49,
   "metadata": {
    "collapsed": false
   },
   "outputs": [
    {
     "data": {
      "image/png": "[encoded data removed]",
      "text/plain": [
       "<matplotlib.figure.Figure at 0x118a691d0>"
      ]
     },
     "metadata": {},
     "output_type": "display_data"
    }
   ],
   "source": [
    "#Own business\n",
    "plt.show(pd.Series(train_data['own_business_or_self_employed'], dtype='category').value_counts().plot(kind='bar'))"
   ]
  },
  {
   "cell_type": "code",
   "execution_count": 56,
   "metadata": {
    "collapsed": true
   },
   "outputs": [],
   "source": [
    "#Making Changes to Data\n",
    "\n",
    "#Categorize Age\n",
    "age_cat = []\n",
    "for i in range(0,len(age)):\n",
    "        if age[i] < 16:\n",
    "            age_cat.extend([0])\n",
    "        elif  16 <= age[i] <= 25:\n",
    "            age_cat.extend([1])\n",
    "        elif  26 <= age[i] <= 35:\n",
    "            age_cat.extend([2])\n",
    "        elif  36 <= age[i] <= 45:\n",
    "            age_cat.extend([3]) \n",
    "        elif  46 <= age[i] <= 55:\n",
    "            age_cat.extend([4])\n",
    "        elif  55 <= age[i] <= 65:\n",
    "            age_cat.extend([5])\n",
    "        elif  age[i] > 65:\n",
    "            age_cat.extend([6])"
   ]
  },
  {
   "cell_type": "code",
   "execution_count": 58,
   "metadata": {
    "collapsed": true
   },
   "outputs": [],
   "source": [
    "#Industry Recode\n",
    "industry_recode = train_data['industry_recode']"
   ]
  },
  {
   "cell_type": "code",
   "execution_count": 23,
   "metadata": {
    "collapsed": true
   },
   "outputs": [],
   "source": [
    "#Occupation Recode\n",
    "occupation_recode = train_data['occupation_recode']"
   ]
  },
  {
   "cell_type": "code",
   "execution_count": 26,
   "metadata": {
    "collapsed": false
   },
   "outputs": [],
   "source": [
    "#Make education categorical \n",
    "educ = []\n",
    "for i in range(0,len(age)):\n",
    "        a = 0\n",
    "        if train_data.ix[i,4] == ' High school graduate':\n",
    "            a = 1\n",
    "        elif train_data.ix[i,4] == ' Some college but no degree':\n",
    "            a = 2\n",
    "        elif train_data.ix[i,4] == ' Associates degree-occup /vocational' or train_data.ix[i,4] == ' Associates degree-academic program':\n",
    "            a = 3\n",
    "        elif train_data.ix[i,4] == ' Bachelors degree(BA AB BS)':\n",
    "            a = 4\n",
    "        elif train_data.ix[i,4] == ' Masters degree(MA MS MEng MEd MSW MBA)':\n",
    "            a = 5\n",
    "        elif train_data.ix[i,4] == ' Doctorate degree(PhD EdD)':\n",
    "            a = 6\n",
    "        elif train_data.ix[i,4] == ' Prof school degree (MD DDS DVM LLB JD)':\n",
    "            a = 7\n",
    "        educ.extend([a])"
   ]
  },
  {
   "cell_type": "code",
   "execution_count": 28,
   "metadata": {
    "collapsed": false
   },
   "outputs": [],
   "source": [
    "#Make categorical: still in school?\n",
    "still_school = []\n",
    "for i in range(0,len(age)):\n",
    "        a = 0\n",
    "        if train_data.ix[i,6] == ' Not in universe':\n",
    "            a = 1\n",
    "        still_school.extend([a])\n",
    "#1 = not in school, 0 = still in school (high school or college)"
   ]
  },
  {
   "cell_type": "code",
   "execution_count": 29,
   "metadata": {
    "collapsed": true
   },
   "outputs": [],
   "source": [
    "#Make marital status categorical\n",
    "marr_stat = []\n",
    "for i in range(0,len(age)):\n",
    "        a = 0\n",
    "        if train_data.ix[i,7] == ' Never married' or  train_data.ix[i,7] == ' Separated' or train_data.ix[i,7] == ' Divorced' or train_data.ix[i,7] == ' Widowed':\n",
    "            a = 1\n",
    "        marr_stat.extend([a])\n",
    "#1 is not married, 0 is married"
   ]
  },
  {
   "cell_type": "code",
   "execution_count": 30,
   "metadata": {
    "collapsed": true
   },
   "outputs": [],
   "source": [
    "#Make race categorical\n",
    "race = []\n",
    "for i in range(0,len(age)):\n",
    "        if train_data.ix[i,10] == ' White':\n",
    "            a = 0\n",
    "        elif train_data.ix[i,10] == ' Black':\n",
    "            a = 1\n",
    "        elif train_data.ix[i,10] == ' Other':\n",
    "            a = 2\n",
    "        elif train_data.ix[i,10] == ' Amer Indian Aleut or Eskimo':\n",
    "            a = 3\n",
    "        elif train_data.ix[i,10] == ' Asian or Pacific Islander':\n",
    "            a = 4\n",
    "        race.extend([a]) "
   ]
  },
  {
   "cell_type": "code",
   "execution_count": 34,
   "metadata": {
    "collapsed": true
   },
   "outputs": [],
   "source": [
    "#Make hispanic categorical\n",
    "hispan = []\n",
    "for i in range(0,len(age)):\n",
    "        a = 0\n",
    "        if train_data.ix[i,11] == ' All other':\n",
    "            a = 1\n",
    "        hispan.extend([a])\n",
    "#0 is hispanic, 1 is not hispanic"
   ]
  },
  {
   "cell_type": "code",
   "execution_count": 35,
   "metadata": {
    "collapsed": true
   },
   "outputs": [],
   "source": [
    "#Make sex categorical \n",
    "sex = []\n",
    "for i in range(0,len(age)):\n",
    "    a = 1\n",
    "    if train_data.ix[i,12] == ' Male':\n",
    "        a = 0\n",
    "    sex.extend([a])"
   ]
  },
  {
   "cell_type": "code",
   "execution_count": 50,
   "metadata": {
    "collapsed": true
   },
   "outputs": [],
   "source": [
    "#Make full or part time status categorical\n",
    "full_part = []\n",
    "for i in range(0,len(age)):\n",
    "    a = 0\n",
    "    if train_data.ix[i,12] == ' Full-time schedules':\n",
    "        a =1\n",
    "    elif train_data.ix[i,12] == ' PT for non-econ reasons usually FT' or train_data.ix[i,12] == ' PT for econ reasons usually PT' or train_data.ix[i,12] == ' PT for econ reasons usually FT':\n",
    "        a = 2\n",
    "    full_part.extend([a])\n",
    "#0 is other, 1 is full time, 2 is part time"
   ]
  },
  {
   "cell_type": "code",
   "execution_count": null,
   "metadata": {
    "collapsed": true
   },
   "outputs": [],
   "source": [
    "#Wage\n",
    "#wage = wage"
   ]
  },
  {
   "cell_type": "code",
   "execution_count": 36,
   "metadata": {
    "collapsed": true
   },
   "outputs": [],
   "source": [
    "#Make detailed household summary categorical\n",
    "fam = []\n",
    "for i in range(0,len(age)):\n",
    "    if train_data.ix[i,23] == ' Child under 18 never married':\n",
    "        a = 0\n",
    "    if train_data.ix[i,23] == ' Other relative of householder':\n",
    "        a = 1\n",
    "    if train_data.ix[i,23] == ' Nonrelative of householder':\n",
    "        a = 2\n",
    "    if train_data.ix[i,23] == ' Spouse of householder':\n",
    "        a = 3\n",
    "    if train_data.ix[i,23] == ' Householder':\n",
    "        a = 4\n",
    "    if train_data.ix[i,23] == ' Child under 18 ever married':\n",
    "        a = 5\n",
    "    if train_data.ix[i,23] == ' Group Quarters- Secondary individual':\n",
    "        a= 6\n",
    "    if train_data.ix[i,23] == ' Child 18 or older':\n",
    "        a=7\n",
    "    fam.extend([a])"
   ]
  },
  {
   "cell_type": "code",
   "execution_count": 33,
   "metadata": {
    "collapsed": false
   },
   "outputs": [],
   "source": [
    "#Make citizenship categorical\n",
    "citz = []\n",
    "for i in range(0,len(age)):\n",
    "        a = 1\n",
    "        if train_data.ix[i,34] == ' Foreign born- Not a citizen of U S ':\n",
    "            a = 0\n",
    "        citz.extend([a])\n",
    "#citizen = 1, not citizen = 0"
   ]
  },
  {
   "cell_type": "code",
   "execution_count": 51,
   "metadata": {
    "collapsed": true
   },
   "outputs": [],
   "source": [
    "#Veteran status\n",
    "vet_benefits = train_data.ix[:,37]"
   ]
  },
  {
   "cell_type": "code",
   "execution_count": 52,
   "metadata": {
    "collapsed": true
   },
   "outputs": [],
   "source": [
    "#Weeks worked in the year\n",
    "weeks_worked = train_data.ix[:,38]"
   ]
  },
  {
   "cell_type": "code",
   "execution_count": 53,
   "metadata": {
    "collapsed": true
   },
   "outputs": [],
   "source": [
    "#Own business\n",
    "own_bus = train_data.ix[:,35]"
   ]
  },
  {
   "cell_type": "code",
   "execution_count": 54,
   "metadata": {
    "collapsed": true
   },
   "outputs": [],
   "source": [
    "#Compile transformed training data\n",
    "col_names_new = ['age_cat','occupation_recode','industry_recode','educ','still_school','marr_stat','race','hispan','sex','full_part','wage','fam','citz','vet_benefits','weeks_worked','own_bus']"
   ]
  },
  {
   "cell_type": "code",
   "execution_count": 62,
   "metadata": {
    "collapsed": false
   },
   "outputs": [],
   "source": [
    "table = np.column_stack((age_cat,occupation_recode,industry_recode,educ,still_school,marr_stat,race,hispan,sex,full_part,wage,fam,citz,vet_benefits,weeks_worked,own_bus))"
   ]
  },
  {
   "cell_type": "code",
   "execution_count": 288,
   "metadata": {
    "collapsed": false
   },
   "outputs": [],
   "source": [
    "X_train = pd.DataFrame(table)\n",
    "X_train.columns = col_names_new"
   ]
  },
  {
   "cell_type": "code",
   "execution_count": null,
   "metadata": {
    "collapsed": true
   },
   "outputs": [],
   "source": [
    "#Do same for testing data"
   ]
  },
  {
   "cell_type": "code",
   "execution_count": 103,
   "metadata": {
    "collapsed": false
   },
   "outputs": [],
   "source": [
    "#Categorize Age\n",
    "age_cat_t = []\n",
    "for i in range(0,len(test_data.ix[:,0])):\n",
    "        if test_data.ix[i,0] < 16:\n",
    "            a= 0\n",
    "        elif  16 <= test_data.ix[i,0] <= 25:\n",
    "            a= 1\n",
    "        elif  26 <= test_data.ix[i,0] <= 35:\n",
    "            a= 2\n",
    "        elif  36 <= test_data.ix[i,0] <= 45:\n",
    "            a= 3\n",
    "        elif  46 <= test_data.ix[i,0] <= 55:\n",
    "            a= 4\n",
    "        elif  55 <= test_data.ix[i,0] <= 65:\n",
    "            a= 5\n",
    "        elif  test_data.ix[i,0] > 65:\n",
    "            a= 6\n",
    "        age_cat_t.extend([a])"
   ]
  },
  {
   "cell_type": "code",
   "execution_count": 72,
   "metadata": {
    "collapsed": true
   },
   "outputs": [],
   "source": [
    "#Industry Recode\n",
    "industry_recode_t = test_data['industry_recode']"
   ]
  },
  {
   "cell_type": "code",
   "execution_count": 73,
   "metadata": {
    "collapsed": true
   },
   "outputs": [],
   "source": [
    "#Occupation Recode\n",
    "occupation_recode_t = test_data['occupation_recode']"
   ]
  },
  {
   "cell_type": "code",
   "execution_count": 74,
   "metadata": {
    "collapsed": true
   },
   "outputs": [],
   "source": [
    "#Make education categorical \n",
    "educ_t = []\n",
    "for i in range(0,len(test_data.ix[:,0])):\n",
    "        a = 0\n",
    "        if test_data.ix[i,4] == ' High school graduate':\n",
    "            a = 1\n",
    "        elif test_data.ix[i,4] == ' Some college but no degree':\n",
    "            a = 2\n",
    "        elif test_data.ix[i,4] == ' Associates degree-occup /vocational' or train_data.ix[i,4] == ' Associates degree-academic program':\n",
    "            a = 3\n",
    "        elif test_data.ix[i,4] == ' Bachelors degree(BA AB BS)':\n",
    "            a = 4\n",
    "        elif test_data.ix[i,4] == ' Masters degree(MA MS MEng MEd MSW MBA)':\n",
    "            a = 5\n",
    "        elif test_data.ix[i,4] == ' Doctorate degree(PhD EdD)':\n",
    "            a = 6\n",
    "        elif test_data.ix[i,4] == ' Prof school degree (MD DDS DVM LLB JD)':\n",
    "            a = 7\n",
    "        educ_t.extend([a])"
   ]
  },
  {
   "cell_type": "code",
   "execution_count": 75,
   "metadata": {
    "collapsed": true
   },
   "outputs": [],
   "source": [
    "#Make categorical: still in school?\n",
    "still_school_t = []\n",
    "for i in range(0,len(test_data.ix[:,0])):\n",
    "        a = 0\n",
    "        if test_data.ix[i,6] == ' Not in universe':\n",
    "            a = 1\n",
    "        still_school_t.extend([a])\n",
    "#1 = not in school, 0 = still in school (high school or college)"
   ]
  },
  {
   "cell_type": "code",
   "execution_count": 76,
   "metadata": {
    "collapsed": true
   },
   "outputs": [],
   "source": [
    "#Make marital status categorical\n",
    "marr_stat_t = []\n",
    "for i in range(0,len(test_data.ix[:,0])):\n",
    "        a = 0\n",
    "        if test_data.ix[i,7] == ' Never married' or  train_data.ix[i,7] == ' Separated' or train_data.ix[i,7] == ' Divorced' or train_data.ix[i,7] == ' Widowed':\n",
    "            a = 1\n",
    "        marr_stat_t.extend([a])\n",
    "#1 is not married, 0 is married"
   ]
  },
  {
   "cell_type": "code",
   "execution_count": 77,
   "metadata": {
    "collapsed": true
   },
   "outputs": [],
   "source": [
    "#Make race categorical\n",
    "race_t = []\n",
    "for i in range(0,len(test_data.ix[:,0])):\n",
    "        if test_data.ix[i,10] == ' White':\n",
    "            a = 0\n",
    "        elif test_data.ix[i,10] == ' Black':\n",
    "            a = 1\n",
    "        elif test_data.ix[i,10] == ' Other':\n",
    "            a = 2\n",
    "        elif test_data.ix[i,10] == ' Amer Indian Aleut or Eskimo':\n",
    "            a = 3\n",
    "        elif test_data.ix[i,10] == ' Asian or Pacific Islander':\n",
    "            a = 4\n",
    "        race_t.extend([a]) "
   ]
  },
  {
   "cell_type": "code",
   "execution_count": 78,
   "metadata": {
    "collapsed": true
   },
   "outputs": [],
   "source": [
    "#Make hispanic categorical\n",
    "hispan_t = []\n",
    "for i in range(0,len(test_data.ix[:,0])):\n",
    "        a = 0\n",
    "        if test_data.ix[i,11] == ' All other':\n",
    "            a = 1\n",
    "        hispan_t.extend([a])\n",
    "#0 is hispanic, 1 is not hispanic"
   ]
  },
  {
   "cell_type": "code",
   "execution_count": 80,
   "metadata": {
    "collapsed": false
   },
   "outputs": [],
   "source": [
    "#Make sex categorical \n",
    "sex_t = []\n",
    "for i in range(0,len(test_data.ix[:,0])):\n",
    "    a = 1\n",
    "    if test_data.ix[i,12] == ' Male':\n",
    "        a = 0\n",
    "    sex_t.extend([a])"
   ]
  },
  {
   "cell_type": "code",
   "execution_count": 81,
   "metadata": {
    "collapsed": true
   },
   "outputs": [],
   "source": [
    "full_part_t = []\n",
    "for i in range(0,len(test_data.ix[:,0])):\n",
    "    a = 0\n",
    "    if test_data.ix[i,12] == ' Full-time schedules':\n",
    "        a =1\n",
    "    elif test_data.ix[i,12] == ' PT for non-econ reasons usually FT' or train_data.ix[i,12] == ' PT for econ reasons usually PT' or train_data.ix[i,12] == ' PT for econ reasons usually FT':\n",
    "        a = 2\n",
    "    full_part_t.extend([a])\n",
    "#0 is other, 1 is full time, 2 is part time"
   ]
  },
  {
   "cell_type": "code",
   "execution_count": 82,
   "metadata": {
    "collapsed": true
   },
   "outputs": [],
   "source": [
    "#Make detailed household summary categorical\n",
    "fam_t = []\n",
    "for i in range(0,len(test_data.ix[:,0])):\n",
    "    if test_data.ix[i,23] == ' Child under 18 never married':\n",
    "        a = 0\n",
    "    if test_data.ix[i,23] == ' Other relative of householder':\n",
    "        a = 1\n",
    "    if test_data.ix[i,23] == ' Nonrelative of householder':\n",
    "        a = 2\n",
    "    if test_data.ix[i,23] == ' Spouse of householder':\n",
    "        a = 3\n",
    "    if test_data.ix[i,23] == ' Householder':\n",
    "        a = 4\n",
    "    if test_data.ix[i,23] == ' Child under 18 ever married':\n",
    "        a = 5\n",
    "    if test_data.ix[i,23] == ' Group Quarters- Secondary individual':\n",
    "        a= 6\n",
    "    if test_data.ix[i,23] == ' Child 18 or older':\n",
    "        a=7\n",
    "    fam_t.extend([a])"
   ]
  },
  {
   "cell_type": "code",
   "execution_count": 83,
   "metadata": {
    "collapsed": true
   },
   "outputs": [],
   "source": [
    "#Make citizenship categorical\n",
    "citz_t = []\n",
    "for i in range(0,len(test_data.ix[:,0])):\n",
    "        a = 1\n",
    "        if test_data.ix[i,34] == ' Foreign born- Not a citizen of U S ':\n",
    "            a = 0\n",
    "        citz_t.extend([a])\n",
    "#citizen = 1, not citizen = 0"
   ]
  },
  {
   "cell_type": "code",
   "execution_count": 84,
   "metadata": {
    "collapsed": true
   },
   "outputs": [],
   "source": [
    "#Veteran status\n",
    "vet_benefits_t = test_data.ix[:,37]"
   ]
  },
  {
   "cell_type": "code",
   "execution_count": 88,
   "metadata": {
    "collapsed": true
   },
   "outputs": [],
   "source": [
    "#Wage per hour\n",
    "wage_t = test_data['wage_per_hour']"
   ]
  },
  {
   "cell_type": "code",
   "execution_count": 85,
   "metadata": {
    "collapsed": true
   },
   "outputs": [],
   "source": [
    "#Weeks worked in the year\n",
    "weeks_worked_t = test_data.ix[:,38]"
   ]
  },
  {
   "cell_type": "code",
   "execution_count": 86,
   "metadata": {
    "collapsed": true
   },
   "outputs": [],
   "source": [
    "#Own business\n",
    "own_bus_t = test_data.ix[:,35]"
   ]
  },
  {
   "cell_type": "code",
   "execution_count": 104,
   "metadata": {
    "collapsed": false
   },
   "outputs": [],
   "source": [
    "table_t = np.column_stack((age_cat_t,occupation_recode_t,industry_recode_t,educ_t,still_school_t,marr_stat_t,race_t,hispan_t,sex_t,full_part_t,wage_t,fam_t,citz_t,vet_benefits_t,weeks_worked_t,own_bus_t))"
   ]
  },
  {
   "cell_type": "code",
   "execution_count": 287,
   "metadata": {
    "collapsed": true
   },
   "outputs": [],
   "source": [
    "X_test = pd.DataFrame(table_t)\n",
    "X_test.columns = col_names_new"
   ]
  },
  {
   "cell_type": "code",
   "execution_count": 106,
   "metadata": {
    "collapsed": true
   },
   "outputs": [],
   "source": [
    "#Split training into 3-fold cross validation groups \n",
    "cv_idx = np.random.randint(0,len(X_train), size = len(X_train))\n",
    "cv1 = X_train.ix[cv_idx[0:66507],]\n",
    "cv2 = X_train.ix[cv_idx[66508:133015],]\n",
    "cv3 = X_train.ix[cv_idx[133016:199523],]\n",
    "cv1_labs = [Y_train[i] for i in cv_idx[0:66507]]\n",
    "cv2_labs = [Y_train[i] for i in cv_idx[66508:133015]]\n",
    "cv3_labs = [Y_train[i] for i in cv_idx[133016:199523]]"
   ]
  },
  {
   "cell_type": "code",
   "execution_count": 353,
   "metadata": {
    "collapsed": false
   },
   "outputs": [],
   "source": [
    "#Logistic Regression\n",
    "\n",
    "#Get coefficients\n",
    "def get_coefs(X_train, Y_train, learn_r, N):\n",
    "    b = np.zeros(len(X_train.columns)) #b is array of coef. start with all 0\n",
    "    for n in range(N): #N iterations\n",
    "        y_i = np.dot(X_train,b)  \n",
    "        y_i = 1 / (1 + exp(-y_i)) #sigmoid function\n",
    "        error =  y_i - Y_train \n",
    "        gradient = np.dot(X_train.T,error)/X_train.shape[0]\n",
    "        b = b -learn_r*gradient #update coefs with gradient\n",
    "    return b"
   ]
  },
  {
   "cell_type": "code",
   "execution_count": 336,
   "metadata": {
    "collapsed": true
   },
   "outputs": [],
   "source": [
    "def predict(X_test, b): #predict labels\n",
    "    y_i = np.dot(X_test,b) \n",
    "    y_i = 1 / (1 + exp(-y_i))\n",
    "    for i in range(len(y_i)):\n",
    "        y_i[i] = round(y_i[i]) #round to 0 or 1\n",
    "    return y_i"
   ]
  },
  {
   "cell_type": "code",
   "execution_count": 343,
   "metadata": {
    "collapsed": true
   },
   "outputs": [],
   "source": [
    "def log_reg(X_train, Y_train, X_test, learn_r, N):\n",
    "    b = get_coefs(X_train, Y_train, learn_r, N)\n",
    "    y_i = predict(X_test, b)\n",
    "    return y_i   #put it together in one function"
   ]
  },
  {
   "cell_type": "code",
   "execution_count": 363,
   "metadata": {
    "collapsed": true
   },
   "outputs": [],
   "source": [
    "#Accuracy function\n",
    "def accuracy(predic_label,actual_label): \n",
    "    good = 0\n",
    "    for i in range(0,len(predic_label)):\n",
    "        if predic_label[i] == actual_label[i]:\n",
    "            good =good+1  #if labels match then good gets a 1, if not good gets a 0\n",
    "        else:\n",
    "            good =good+0\n",
    "    return(good/len(predic_label))"
   ]
  },
  {
   "cell_type": "code",
   "execution_count": 354,
   "metadata": {
    "collapsed": false
   },
   "outputs": [
    {
     "data": {
      "text/plain": [
       "0.9379313455726465"
      ]
     },
     "execution_count": 354,
     "metadata": {},
     "output_type": "execute_result"
    }
   ],
   "source": [
    "#Cross Validation\n",
    "#Round 1: train on cv1 and cv2, test on cv3\n",
    "N = 100\n",
    "learn_r = .1\n",
    "X_train1 = pd.DataFrame.reset_index(cv1.append(cv2)) #get rid of index column\n",
    "X_train1_indices = X_train1['index']\n",
    "del X_train1['index']\n",
    "Y_train1 = np.hstack((cv1_labs,cv2_labs))\n",
    "X_test1 = cv3\n",
    "Y_test1 = cv3_labs\n",
    "predictions1 = log_reg(X_train1, Y_train1, X_test1, learn_r, N)\n",
    "acc1 = accuracy(predictions1, Y_test1)\n",
    "acc1"
   ]
  },
  {
   "cell_type": "code",
   "execution_count": 355,
   "metadata": {
    "collapsed": false
   },
   "outputs": [
    {
     "data": {
      "text/plain": [
       "0.884598613679763"
      ]
     },
     "execution_count": 355,
     "metadata": {},
     "output_type": "execute_result"
    }
   ],
   "source": [
    "#Round 2: train on cv2 and cv3, test on cv1\n",
    "X_train2 = pd.DataFrame.reset_index(cv2.append(cv3))\n",
    "X_train2_indices = X_train2['index']\n",
    "del X_train2['index']\n",
    "Y_train2 = np.hstack((cv2_labs,cv3_labs))\n",
    "X_test2 = cv1\n",
    "Y_test2 = cv1_labs\n",
    "predictions_2 = log_reg(X_train2, Y_train2, X_test2, learn_r, N)\n",
    "acc2 = accuracy(predictions_2, Y_test2)\n",
    "acc2"
   ]
  },
  {
   "cell_type": "code",
   "execution_count": 356,
   "metadata": {
    "collapsed": false
   },
   "outputs": [
    {
     "data": {
      "text/plain": [
       "0.9357360879305938"
      ]
     },
     "execution_count": 356,
     "metadata": {},
     "output_type": "execute_result"
    }
   ],
   "source": [
    "#Round 3: train on cv3 and cv1, test on cv2\n",
    "X_train3 = pd.DataFrame.reset_index(cv3.append(cv1))\n",
    "X_train3_indices = X_train3['index']\n",
    "del X_train3['index']\n",
    "Y_train3 = np.hstack((cv3_labs,cv1_labs))\n",
    "X_test3 = cv2\n",
    "Y_test3 = cv2_labs\n",
    "predictions_3 = log_reg(X_train3, Y_train3, X_test3, .1, 100)\n",
    "#b_3 = results['b']\n",
    "#b0_3 = results['b0']\n",
    "#predictions_3 = results['predictions']\n",
    "acc3 = accuracy(predictions_3, Y_test3)\n",
    "acc3"
   ]
  },
  {
   "cell_type": "code",
   "execution_count": 359,
   "metadata": {
    "collapsed": false
   },
   "outputs": [
    {
     "data": {
      "text/plain": [
       "0.9194220157276677"
      ]
     },
     "execution_count": 359,
     "metadata": {},
     "output_type": "execute_result"
    }
   ],
   "source": [
    "#Get average accuracy and average coefficients \n",
    "acc_cv = (acc1+acc2+acc3)/3\n",
    "acc_cv"
   ]
  },
  {
   "cell_type": "code",
   "execution_count": 360,
   "metadata": {
    "collapsed": true
   },
   "outputs": [],
   "source": [
    "#Train model on whole training data and test on testing data\n",
    "predictions = log_reg(X_train, Y_train, X_test, .1, 100)"
   ]
  },
  {
   "cell_type": "code",
   "execution_count": 361,
   "metadata": {
    "collapsed": false
   },
   "outputs": [
    {
     "data": {
      "text/plain": [
       "0.9379723742507167"
      ]
     },
     "execution_count": 361,
     "metadata": {},
     "output_type": "execute_result"
    }
   ],
   "source": [
    "#Get accuracy \n",
    "accuracy(predictions, Y_test)"
   ]
  },
  {
   "cell_type": "code",
   "execution_count": 368,
   "metadata": {
    "collapsed": true
   },
   "outputs": [],
   "source": [
    "#Get true pos, true neg, false pos, false neg\n",
    "def conf_matrix(predic_label,actual_label): \n",
    "    TP = 0\n",
    "    TN = 0\n",
    "    FN = 0\n",
    "    FP = 0\n",
    "    for i in range(len(predic_label)):\n",
    "        if predic_label[i] == 1:\n",
    "            if actual_label[i] == 1:\n",
    "                TP = TP +1\n",
    "            elif actual_label[i] == 0:\n",
    "                FP = FP +1\n",
    "        elif predic_label[i] == 0:\n",
    "            if actual_label[i] ==1:\n",
    "                FN = FN +1\n",
    "            elif actual_label[i] ==0:\n",
    "                TN = TN +1\n",
    "    return TN, FP, FN, TP"
   ]
  },
  {
   "cell_type": "code",
   "execution_count": 369,
   "metadata": {
    "collapsed": false
   },
   "outputs": [
    {
     "data": {
      "text/plain": [
       "(93574, 2, 6186, 0)"
      ]
     },
     "execution_count": 369,
     "metadata": {},
     "output_type": "execute_result"
    }
   ],
   "source": [
    "conf_matrix(predictions, Y_test)"
   ]
  },
  {
   "cell_type": "code",
   "execution_count": 378,
   "metadata": {
    "collapsed": false
   },
   "outputs": [],
   "source": [
    "b = get_coefs(X_train, Y_train, .1, 100)"
   ]
  },
  {
   "cell_type": "code",
   "execution_count": 382,
   "metadata": {
    "collapsed": false
   },
   "outputs": [
    {
     "data": {
      "text/plain": [
       "array([ 9, 15,  0,  6, 13, 14, 11,  3,  2,  7,  8,  4, 12,  5,  1, 10])"
      ]
     },
     "execution_count": 382,
     "metadata": {},
     "output_type": "execute_result"
    }
   ],
   "source": [
    "abs(b).argsort()"
   ]
  },
  {
   "cell_type": "code",
   "execution_count": 383,
   "metadata": {
    "collapsed": false
   },
   "outputs": [
    {
     "data": {
      "text/plain": [
       "'full_part'"
      ]
     },
     "execution_count": 383,
     "metadata": {},
     "output_type": "execute_result"
    }
   ],
   "source": [
    "X_train.columns[9]"
   ]
  },
  {
   "cell_type": "code",
   "execution_count": 384,
   "metadata": {
    "collapsed": false
   },
   "outputs": [
    {
     "data": {
      "text/plain": [
       "'own_bus'"
      ]
     },
     "execution_count": 384,
     "metadata": {},
     "output_type": "execute_result"
    }
   ],
   "source": [
    "X_train.columns[15]"
   ]
  },
  {
   "cell_type": "code",
   "execution_count": 385,
   "metadata": {
    "collapsed": false
   },
   "outputs": [
    {
     "data": {
      "text/plain": [
       "'age_cat'"
      ]
     },
     "execution_count": 385,
     "metadata": {},
     "output_type": "execute_result"
    }
   ],
   "source": [
    "X_train.columns[0]"
   ]
  },
  {
   "cell_type": "code",
   "execution_count": 386,
   "metadata": {
    "collapsed": false
   },
   "outputs": [
    {
     "data": {
      "text/plain": [
       "'race'"
      ]
     },
     "execution_count": 386,
     "metadata": {},
     "output_type": "execute_result"
    }
   ],
   "source": [
    "X_train.columns[6]"
   ]
  },
  {
   "cell_type": "code",
   "execution_count": 387,
   "metadata": {
    "collapsed": false
   },
   "outputs": [
    {
     "data": {
      "text/plain": [
       "'vet_benefits'"
      ]
     },
     "execution_count": 387,
     "metadata": {},
     "output_type": "execute_result"
    }
   ],
   "source": [
    "X_train.columns[13]"
   ]
  },
  {
   "cell_type": "code",
   "execution_count": 389,
   "metadata": {
    "collapsed": true
   },
   "outputs": [],
   "source": [
    "from sklearn import tree"
   ]
  },
  {
   "cell_type": "code",
   "execution_count": 390,
   "metadata": {
    "collapsed": false
   },
   "outputs": [],
   "source": [
    "#Try with a decision tree\n",
    "clf = tree.DecisionTreeClassifier()\n",
    "clf = clf.fit(X_train, Y_train)\n",
    "labels2 = clf.predict(X_test)"
   ]
  },
  {
   "cell_type": "code",
   "execution_count": 392,
   "metadata": {
    "collapsed": false
   },
   "outputs": [
    {
     "data": {
      "text/plain": [
       "0.9321485134620396"
      ]
     },
     "execution_count": 392,
     "metadata": {},
     "output_type": "execute_result"
    }
   ],
   "source": [
    "accuracy(labels2, Y_test)"
   ]
  },
  {
   "cell_type": "code",
   "execution_count": 393,
   "metadata": {
    "collapsed": false
   },
   "outputs": [
    {
     "data": {
      "text/plain": [
       "(90752, 2824, 3945, 2241)"
      ]
     },
     "execution_count": 393,
     "metadata": {},
     "output_type": "execute_result"
    }
   ],
   "source": [
    "conf_matrix(labels2, Y_test)"
   ]
  },
  {
   "cell_type": "code",
   "execution_count": null,
   "metadata": {
    "collapsed": true
   },
   "outputs": [],
   "source": []
  }
 ],
 "metadata": {
  "anaconda-cloud": {},
  "kernelspec": {
   "display_name": "Python [conda root]",
   "language": "python",
   "name": "conda-root-py"
  },
  "language_info": {
   "codemirror_mode": {
    "name": "ipython",
    "version": 3
   },
   "file_extension": ".py",
   "mimetype": "text/x-python",
   "name": "python",
   "nbconvert_exporter": "python",
   "pygments_lexer": "ipython3",
   "version": "3.5.2"
  }
 },
 "nbformat": 4,
 "nbformat_minor": 1
}
